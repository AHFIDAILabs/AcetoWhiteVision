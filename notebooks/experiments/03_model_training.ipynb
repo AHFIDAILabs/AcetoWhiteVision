{
 "cells": [
  {
   "cell_type": "code",
   "execution_count": 1,
   "id": "a9896b2c",
   "metadata": {},
   "outputs": [
    {
     "name": "stdout",
     "output_type": "stream",
     "text": [
      "Current directory: c:\\09_AHFID\\CervicalAI-Screen\\notebook\n",
      "Changed to: c:\\09_AHFID\\CervicalAI-Screen\n"
     ]
    }
   ],
   "source": [
    "# ============================================================\n",
    "# Cell 1: Setup and Directory Management\n",
    "# ============================================================\n",
    "import os\n",
    "import sys\n",
    "from pathlib import Path\n",
    "\n",
    "# Check current directory\n",
    "print(f\"Current directory: {os.getcwd()}\")\n",
    "\n",
    "# If we're in the notebook directory, move to project root\n",
    "if 'notebook' in os.getcwd():\n",
    "    os.chdir('../')\n",
    "    print(f\"Changed to: {os.getcwd()}\")"
   ]
  },
  {
   "cell_type": "code",
   "execution_count": 2,
   "id": "b338850d",
   "metadata": {},
   "outputs": [
    {
     "name": "stderr",
     "output_type": "stream",
     "text": [
      "c:\\09_AHFID\\CervicalAI-Screen\\venv\\Lib\\site-packages\\tqdm\\auto.py:21: TqdmWarning: IProgress not found. Please update jupyter and ipywidgets. See https://ipywidgets.readthedocs.io/en/stable/user_install.html\n",
      "  from .autonotebook import tqdm as notebook_tqdm\n"
     ]
    },
    {
     "name": "stdout",
     "output_type": "stream",
     "text": [
      "Libraries imported successfully\n"
     ]
    }
   ],
   "source": [
    "# ============================================================\n",
    "# Cell 2: Import Required Libraries\n",
    "# ============================================================\n",
    "import torch\n",
    "import torch.nn as nn\n",
    "import torch.nn.functional as F\n",
    "from torch.utils.data import Dataset, DataLoader\n",
    "import torchvision.transforms as transforms\n",
    "import numpy as np\n",
    "import json\n",
    "import random\n",
    "from pathlib import Path\n",
    "from PIL import Image, ImageEnhance, ImageFilter\n",
    "from collections import Counter\n",
    "import matplotlib.pyplot as plt\n",
    "from sklearn.model_selection import train_test_split\n",
    "from tqdm import tqdm\n",
    "import time\n",
    "import timm\n",
    "import warnings\n",
    "warnings.filterwarnings('ignore')\n",
    "\n",
    "print(\"Libraries imported successfully\")"
   ]
  },
  {
   "cell_type": "code",
   "execution_count": 3,
   "id": "b37a78eb",
   "metadata": {},
   "outputs": [
    {
     "name": "stdout",
     "output_type": "stream",
     "text": [
      "Model classes defined successfully\n"
     ]
    }
   ],
   "source": [
    "# ============================================================\n",
    "# Cell 3: Define Model Architecture Classes\n",
    "# ============================================================\n",
    "class SSLEfficientNet(nn.Module):\n",
    "    \"\"\"EfficientNet backbone optimized for semi-supervised learning\"\"\"\n",
    "    def __init__(self, model_name='efficientnet_b0', num_classes=2, dropout_rate=0.5):\n",
    "        super(SSLEfficientNet, self).__init__()\n",
    "        \n",
    "        # Load pretrained backbone\n",
    "        self.backbone = timm.create_model(model_name, pretrained=True, num_classes=0)\n",
    "        self.feature_dim = self.backbone.num_features\n",
    "        \n",
    "        # Feature projector for consistency regularization\n",
    "        self.projector = nn.Sequential(\n",
    "            nn.Linear(self.feature_dim, 256),\n",
    "            nn.ReLU(inplace=True),\n",
    "            nn.Linear(256, 128),\n",
    "            nn.ReLU(inplace=True),\n",
    "            nn.Linear(128, 64)\n",
    "        )\n",
    "        \n",
    "        # Classification head with dropout\n",
    "        self.classifier = nn.Sequential(\n",
    "            nn.Dropout(dropout_rate),\n",
    "            nn.Linear(self.feature_dim, 256),\n",
    "            nn.ReLU(inplace=True),\n",
    "            nn.Dropout(dropout_rate * 0.5),\n",
    "            nn.Linear(256, num_classes)\n",
    "        )\n",
    "        \n",
    "        self._initialize_weights()\n",
    "    \n",
    "    def _initialize_weights(self):\n",
    "        \"\"\"Initialize additional layers\"\"\"\n",
    "        for m in [self.projector, self.classifier]:\n",
    "            for layer in m:\n",
    "                if isinstance(layer, nn.Linear):\n",
    "                    nn.init.xavier_uniform_(layer.weight)\n",
    "                    nn.init.constant_(layer.bias, 0)\n",
    "    \n",
    "    def forward(self, x, return_features=False):\n",
    "        \"\"\"Forward pass with optional feature return\"\"\"\n",
    "        features = self.backbone(x)\n",
    "        logits = self.classifier(features)\n",
    "        \n",
    "        if return_features:\n",
    "            projected_features = self.projector(features)\n",
    "            return logits, features, projected_features\n",
    "        \n",
    "        return logits\n",
    "    \n",
    "    def extract_features(self, x):\n",
    "        \"\"\"Extract features without classification\"\"\"\n",
    "        with torch.no_grad():\n",
    "            features = self.backbone(x)\n",
    "            return features\n",
    "\n",
    "class ConsistencyLoss(nn.Module):\n",
    "    \"\"\"Consistency loss for semi-supervised learning\"\"\"\n",
    "    def __init__(self, consistency_type='mse', temperature=1.0):\n",
    "        super(ConsistencyLoss, self).__init__()\n",
    "        self.consistency_type = consistency_type\n",
    "        self.temperature = temperature\n",
    "        \n",
    "    def forward(self, logits1, logits2):\n",
    "        if self.consistency_type == 'mse':\n",
    "            prob1 = F.softmax(logits1 / self.temperature, dim=1)\n",
    "            prob2 = F.softmax(logits2 / self.temperature, dim=1)\n",
    "            return F.mse_loss(prob1, prob2)\n",
    "        elif self.consistency_type == 'kl':\n",
    "            log_prob1 = F.log_softmax(logits1 / self.temperature, dim=1)\n",
    "            prob2 = F.softmax(logits2 / self.temperature, dim=1)\n",
    "            return F.kl_div(log_prob1, prob2, reduction='batchmean')\n",
    "        else:\n",
    "            raise ValueError(f\"Unknown consistency type: {self.consistency_type}\")\n",
    "\n",
    "class PseudoLabelLoss(nn.Module):\n",
    "    \"\"\"Pseudo-labeling loss for semi-supervised learning\"\"\"\n",
    "    def __init__(self, threshold=0.95, temperature=1.0):\n",
    "        super(PseudoLabelLoss, self).__init__()\n",
    "        self.threshold = threshold\n",
    "        self.temperature = temperature\n",
    "        \n",
    "    def forward(self, logits, return_mask=False):\n",
    "        probs = F.softmax(logits / self.temperature, dim=1)\n",
    "        max_probs, pseudo_labels = torch.max(probs, dim=1)\n",
    "        \n",
    "        confidence_mask = max_probs >= self.threshold\n",
    "        \n",
    "        if confidence_mask.sum() == 0:\n",
    "            loss = torch.tensor(0.0, device=logits.device)\n",
    "        else:\n",
    "            loss = F.cross_entropy(logits[confidence_mask], pseudo_labels[confidence_mask])\n",
    "        \n",
    "        if return_mask:\n",
    "            return loss, confidence_mask, pseudo_labels\n",
    "        return loss\n",
    "\n",
    "def create_ssl_model(num_classes=2, model_name='efficientnet_b0', dropout_rate=0.5):\n",
    "    \"\"\"Create and return SSL model\"\"\"\n",
    "    model = SSLEfficientNet(model_name=model_name, num_classes=num_classes, dropout_rate=dropout_rate)\n",
    "    return model\n",
    "\n",
    "def count_parameters(model):\n",
    "    \"\"\"Count model parameters\"\"\"\n",
    "    total_params = sum(p.numel() for p in model.parameters())\n",
    "    trainable_params = sum(p.numel() for p in model.parameters() if p.requires_grad)\n",
    "    return total_params, trainable_params\n",
    "\n",
    "print(\"Model classes defined successfully\")"
   ]
  },
  {
   "cell_type": "code",
   "execution_count": 4,
   "id": "b10c7d88",
   "metadata": {},
   "outputs": [
    {
     "name": "stdout",
     "output_type": "stream",
     "text": [
      "Data metadata loaded successfully\n",
      "Model config loaded successfully\n",
      "\n",
      "Training configuration:\n",
      "  Device: cpu\n",
      "  Batch size (labeled): 16\n",
      "  Batch size (unlabeled): 32\n",
      "  Epochs: 50\n",
      "  Learning rate: 0.0001\n",
      "  Consistency weight: 10.0\n",
      "  Pseudo-label threshold: 0.95\n"
     ]
    }
   ],
   "source": [
    "# ============================================================\n",
    "# Cell 4: Load Configurations\n",
    "# ============================================================\n",
    "ARTIFACTS_DIR = Path(\"artifacts\")\n",
    "\n",
    "# Load metadata\n",
    "try:\n",
    "    with open(ARTIFACTS_DIR / \"data_metadata.json\", \"r\") as f:\n",
    "        data_metadata = json.load(f)\n",
    "    print(\"Data metadata loaded successfully\")\n",
    "except FileNotFoundError:\n",
    "    print(\"ERROR: data_metadata.json not found. Please run 01_data_ingestion.ipynb first!\")\n",
    "    raise\n",
    "\n",
    "try:\n",
    "    with open(ARTIFACTS_DIR / \"model_config.json\", \"r\") as f:\n",
    "        model_config = json.load(f)\n",
    "    print(\"Model config loaded successfully\")\n",
    "except FileNotFoundError:\n",
    "    print(\"ERROR: model_config.json not found. Please run 02_prepare_base_model.ipynb first!\")\n",
    "    raise\n",
    "\n",
    "# Training configuration\n",
    "DEVICE = torch.device(\"cuda\" if torch.cuda.is_available() else \"cpu\")\n",
    "BATCH_SIZE = 16\n",
    "UNLABELED_BATCH_SIZE = 32\n",
    "EPOCHS = 50\n",
    "LEARNING_RATE = 1e-4\n",
    "WEIGHT_DECAY = 1e-4\n",
    "\n",
    "# Semi-supervised learning hyperparameters\n",
    "CONSISTENCY_WEIGHT = 10.0\n",
    "PSEUDO_LABEL_WEIGHT = 1.0\n",
    "PSEUDO_THRESHOLD = 0.95\n",
    "WARMUP_EPOCHS = 10\n",
    "\n",
    "IMG_SIZE = model_config[\"model_architecture\"][\"img_size\"]\n",
    "SEED = 42\n",
    "\n",
    "# Set seeds for reproducibility\n",
    "random.seed(SEED)\n",
    "np.random.seed(SEED)\n",
    "torch.manual_seed(SEED)\n",
    "if torch.cuda.is_available():\n",
    "    torch.cuda.manual_seed_all(SEED)\n",
    "\n",
    "print(f\"\\nTraining configuration:\")\n",
    "print(f\"  Device: {DEVICE}\")\n",
    "print(f\"  Batch size (labeled): {BATCH_SIZE}\")\n",
    "print(f\"  Batch size (unlabeled): {UNLABELED_BATCH_SIZE}\")\n",
    "print(f\"  Epochs: {EPOCHS}\")\n",
    "print(f\"  Learning rate: {LEARNING_RATE}\")\n",
    "print(f\"  Consistency weight: {CONSISTENCY_WEIGHT}\")\n",
    "print(f\"  Pseudo-label threshold: {PSEUDO_THRESHOLD}\")"
   ]
  },
  {
   "cell_type": "code",
   "execution_count": 5,
   "id": "47cd9d17",
   "metadata": {},
   "outputs": [
    {
     "name": "stdout",
     "output_type": "stream",
     "text": [
      "Medical augmentation class defined successfully\n"
     ]
    }
   ],
   "source": [
    "# ============================================================\n",
    "# Cell 5: Define Medical Image Augmentation\n",
    "# ============================================================\n",
    "class MedicalImageAugmentation:\n",
    "    \"\"\"Medical image specific augmentations - Fixed for dtype issues\"\"\"\n",
    "    \n",
    "    @staticmethod\n",
    "    def add_medical_artifacts(img, severity=0.3):\n",
    "        \"\"\"Add realistic medical imaging artifacts\"\"\"\n",
    "        if random.random() < 0.3:\n",
    "            img = MedicalImageAugmentation.add_highlights(img, severity)\n",
    "        if random.random() < 0.2:\n",
    "            img = MedicalImageAugmentation.add_occlusion(img, severity)\n",
    "        return img\n",
    "    \n",
    "    @staticmethod\n",
    "    def add_highlights(img, severity=0.3):\n",
    "        \"\"\"Add specular highlights (simulating light reflections from moist tissue)\"\"\"\n",
    "        # Convert to float32 to avoid dtype issues\n",
    "        img_array = np.array(img, dtype=np.float32)\n",
    "        h, w = img_array.shape[:2]\n",
    "        \n",
    "        n_spots = random.randint(1, 2)\n",
    "        for _ in range(n_spots):\n",
    "            center_x = random.randint(w//4, 3*w//4)\n",
    "            center_y = random.randint(h//4, 3*h//4)\n",
    "            radius = random.randint(10, int(min(h, w) * 0.1))\n",
    "            intensity = random.uniform(0.5, 1.0) * severity\n",
    "            \n",
    "            # Create circular mask\n",
    "            y, x = np.ogrid[:h, :w]\n",
    "            mask = (x - center_x)**2 + (y - center_y)**2 <= radius**2\n",
    "            \n",
    "            # Apply highlight\n",
    "            if len(img_array.shape) == 3:\n",
    "                for c in range(3):\n",
    "                    img_array[mask, c] = np.minimum(\n",
    "                        img_array[mask, c] * (1 + intensity), 255\n",
    "                    )\n",
    "            else:\n",
    "                img_array[mask] = np.minimum(\n",
    "                    img_array[mask] * (1 + intensity), 255\n",
    "                )\n",
    "        \n",
    "        # Convert back to uint8\n",
    "        img_array = np.clip(img_array, 0, 255)\n",
    "        return Image.fromarray(img_array.astype(np.uint8))\n",
    "    \n",
    "    @staticmethod\n",
    "    def add_occlusion(img, severity=0.3):\n",
    "        \"\"\"Add shadow-like occlusions (simulating viewing angle obstructions)\"\"\"\n",
    "        # Convert to float32 to avoid dtype issues\n",
    "        img_array = np.array(img, dtype=np.float32)\n",
    "        h, w = img_array.shape[:2]\n",
    "        \n",
    "        # Random occlusion parameters\n",
    "        occ_w = random.randint(w//8, w//4)\n",
    "        occ_h = random.randint(h//8, h//4)\n",
    "        occ_x = random.randint(0, w - occ_w)\n",
    "        occ_y = random.randint(0, h - occ_h)\n",
    "        darkness = random.uniform(0.3, 0.7) * severity\n",
    "        \n",
    "        # Apply occlusion\n",
    "        if len(img_array.shape) == 3:\n",
    "            # For RGB images\n",
    "            img_array[occ_y:occ_y+occ_h, occ_x:occ_x+occ_w] = \\\n",
    "                img_array[occ_y:occ_y+occ_h, occ_x:occ_x+occ_w] * (1 - darkness)\n",
    "        else:\n",
    "            # For grayscale images\n",
    "            img_array[occ_y:occ_y+occ_h, occ_x:occ_x+occ_w] = \\\n",
    "                img_array[occ_y:occ_y+occ_h, occ_x:occ_x+occ_w] * (1 - darkness)\n",
    "        \n",
    "        # Ensure values are in valid range and convert back to uint8\n",
    "        img_array = np.clip(img_array, 0, 255)\n",
    "        return Image.fromarray(img_array.astype(np.uint8))\n",
    "\n",
    "print(\"Medical augmentation class defined successfully\")"
   ]
  },
  {
   "cell_type": "code",
   "execution_count": 6,
   "id": "36c01fc2",
   "metadata": {},
   "outputs": [
    {
     "name": "stdout",
     "output_type": "stream",
     "text": [
      "Data transforms defined\n"
     ]
    }
   ],
   "source": [
    "# ============================================================\n",
    "# Cell 6: Define Data Transforms\n",
    "# ============================================================\n",
    "# Strong augmentation for consistency regularization\n",
    "strong_transform = transforms.Compose([\n",
    "    transforms.Lambda(lambda x: MedicalImageAugmentation.add_medical_artifacts(x, 0.4)),\n",
    "    transforms.Resize((IMG_SIZE, IMG_SIZE)),\n",
    "    transforms.RandomHorizontalFlip(p=0.5),\n",
    "    transforms.RandomRotation(degrees=20),\n",
    "    transforms.RandomPerspective(distortion_scale=0.2, p=0.3),\n",
    "    transforms.ColorJitter(brightness=0.3, contrast=0.3, saturation=0.1, hue=0.05),\n",
    "    transforms.GaussianBlur(kernel_size=3, sigma=(0.1, 2.0)),\n",
    "    transforms.ToTensor(),\n",
    "    transforms.Normalize(mean=[0.485, 0.456, 0.406], std=[0.229, 0.224, 0.225])\n",
    "])\n",
    "\n",
    "# Weak augmentation for labeled data and consistency baseline\n",
    "weak_transform = transforms.Compose([\n",
    "    transforms.Resize((IMG_SIZE, IMG_SIZE)),\n",
    "    transforms.RandomHorizontalFlip(p=0.3),\n",
    "    transforms.RandomRotation(degrees=10),\n",
    "    transforms.ColorJitter(brightness=0.1, contrast=0.1),\n",
    "    transforms.ToTensor(),\n",
    "    transforms.Normalize(mean=[0.485, 0.456, 0.406], std=[0.229, 0.224, 0.225])\n",
    "])\n",
    "\n",
    "# Validation transform (no augmentation)\n",
    "val_transform = transforms.Compose([\n",
    "    transforms.Resize((IMG_SIZE, IMG_SIZE)),\n",
    "    transforms.ToTensor(),\n",
    "    transforms.Normalize(mean=[0.485, 0.456, 0.406], std=[0.229, 0.224, 0.225])\n",
    "])\n",
    "\n",
    "print(\"Data transforms defined\")"
   ]
  },
  {
   "cell_type": "code",
   "execution_count": 7,
   "id": "877604f0",
   "metadata": {},
   "outputs": [
    {
     "name": "stdout",
     "output_type": "stream",
     "text": [
      "Dataset classes defined\n"
     ]
    }
   ],
   "source": [
    "# ============================================================\n",
    "# Cell 7: Define Dataset Classes\n",
    "# ============================================================\n",
    "class LabeledDataset(Dataset):\n",
    "    \"\"\"Dataset for labeled images\"\"\"\n",
    "    def __init__(self, image_paths, labels, transform=None):\n",
    "        self.image_paths = image_paths\n",
    "        self.labels = labels\n",
    "        self.transform = transform\n",
    "        \n",
    "    def __len__(self):\n",
    "        return len(self.image_paths)\n",
    "    \n",
    "    def __getitem__(self, idx):\n",
    "        img_path = self.image_paths[idx]\n",
    "        label = self.labels[idx]\n",
    "        \n",
    "        try:\n",
    "            image = Image.open(img_path).convert('RGB')\n",
    "            if self.transform:\n",
    "                image = self.transform(image)\n",
    "            return image, label, img_path\n",
    "        except Exception as e:\n",
    "            print(f\"Error loading {img_path}: {e}\")\n",
    "            blank_img = Image.new('RGB', (IMG_SIZE, IMG_SIZE), color='black')\n",
    "            if self.transform:\n",
    "                blank_img = self.transform(blank_img)\n",
    "            return blank_img, label, img_path\n",
    "\n",
    "class UnlabeledDataset(Dataset):\n",
    "    \"\"\"Dataset for unlabeled images with dual augmentation\"\"\"\n",
    "    def __init__(self, image_paths, weak_transform, strong_transform):\n",
    "        self.image_paths = image_paths\n",
    "        self.weak_transform = weak_transform\n",
    "        self.strong_transform = strong_transform\n",
    "        \n",
    "    def __len__(self):\n",
    "        return len(self.image_paths)\n",
    "    \n",
    "    def __getitem__(self, idx):\n",
    "        img_path = self.image_paths[idx]\n",
    "        \n",
    "        try:\n",
    "            image = Image.open(img_path).convert('RGB')\n",
    "            weak_img = self.weak_transform(image)\n",
    "            strong_img = self.strong_transform(image)\n",
    "            return weak_img, strong_img, img_path\n",
    "        except Exception as e:\n",
    "            print(f\"Error loading {img_path}: {e}\")\n",
    "            blank_img = Image.new('RGB', (IMG_SIZE, IMG_SIZE), color='black')\n",
    "            weak_img = self.weak_transform(blank_img)\n",
    "            strong_img = self.strong_transform(blank_img)\n",
    "            return weak_img, strong_img, img_path\n",
    "\n",
    "print(\"Dataset classes defined\")"
   ]
  },
  {
   "cell_type": "code",
   "execution_count": 8,
   "id": "4d07681f",
   "metadata": {},
   "outputs": [
    {
     "name": "stdout",
     "output_type": "stream",
     "text": [
      "Data loading functions defined\n"
     ]
    }
   ],
   "source": [
    "# ============================================================\n",
    "# Cell 8: Data Loading Functions\n",
    "# ============================================================\n",
    "def load_datasets():\n",
    "    \"\"\"Load and prepare datasets\"\"\"\n",
    "    data_dir = Path(data_metadata[\"data_dir\"])\n",
    "    labeled_dir = data_dir / \"labeled\"\n",
    "    unlabeled_dir = data_dir / \"unlabeled\"\n",
    "    \n",
    "    # Load labeled data\n",
    "    labeled_paths, labels = [], []\n",
    "    class_to_idx = {\"Negative\": 0, \"Positive\": 1}\n",
    "    \n",
    "    for class_name, class_idx in class_to_idx.items():\n",
    "        class_dir = labeled_dir / class_name\n",
    "        if class_dir.exists():\n",
    "            for img_path in class_dir.glob(\"*\"):\n",
    "                if img_path.suffix.lower() in ['.jpg', '.jpeg', '.png']:\n",
    "                    labeled_paths.append(str(img_path))\n",
    "                    labels.append(class_idx)\n",
    "    \n",
    "    print(f\"Loaded {len(labeled_paths)} labeled images\")\n",
    "    print(f\"Class distribution: {Counter(labels)}\")\n",
    "    \n",
    "    # Split labeled data into train/validation\n",
    "    train_paths, val_paths, train_labels, val_labels = train_test_split(\n",
    "        labeled_paths, labels, test_size=0.2, random_state=SEED, stratify=labels\n",
    "    )\n",
    "    \n",
    "    print(f\"Training set: {len(train_paths)} images\")\n",
    "    print(f\"Validation set: {len(val_paths)} images\")\n",
    "    \n",
    "    # Load unlabeled data\n",
    "    unlabeled_paths = []\n",
    "    if unlabeled_dir.exists():\n",
    "        for img_path in unlabeled_dir.glob(\"*\"):\n",
    "            if img_path.suffix.lower() in ['.jpg', '.jpeg', '.png']:\n",
    "                unlabeled_paths.append(str(img_path))\n",
    "    \n",
    "    print(f\"Loaded {len(unlabeled_paths)} unlabeled images\")\n",
    "    \n",
    "    return (train_paths, train_labels, val_paths, val_labels, unlabeled_paths)\n",
    "\n",
    "def create_data_loaders(train_paths, train_labels, val_paths, val_labels, unlabeled_paths):\n",
    "    \"\"\"Create data loaders\"\"\"\n",
    "    train_dataset = LabeledDataset(train_paths, train_labels, weak_transform)\n",
    "    val_dataset = LabeledDataset(val_paths, val_labels, val_transform)\n",
    "    unlabeled_dataset = UnlabeledDataset(unlabeled_paths, weak_transform, strong_transform)\n",
    "    \n",
    "    # Adjust num_workers based on system\n",
    "    num_workers = 0 if DEVICE.type == 'cpu' else 2\n",
    "    \n",
    "    train_loader = DataLoader(train_dataset, batch_size=BATCH_SIZE, shuffle=True, num_workers=num_workers)\n",
    "    val_loader = DataLoader(val_dataset, batch_size=BATCH_SIZE, shuffle=False, num_workers=num_workers)\n",
    "    unlabeled_loader = DataLoader(unlabeled_dataset, batch_size=UNLABELED_BATCH_SIZE, shuffle=True, num_workers=num_workers)\n",
    "    \n",
    "    return train_loader, val_loader, unlabeled_loader\n",
    "\n",
    "print(\"Data loading functions defined\")"
   ]
  },
  {
   "cell_type": "code",
   "execution_count": 9,
   "id": "c798623c",
   "metadata": {},
   "outputs": [
    {
     "name": "stdout",
     "output_type": "stream",
     "text": [
      "SSL Trainer class defined\n"
     ]
    }
   ],
   "source": [
    "# ============================================================\n",
    "# Cell 9: Define SSL Trainer Class\n",
    "# ============================================================\n",
    "class SSLTrainer:\n",
    "    \"\"\"Semi-supervised learning trainer\"\"\"\n",
    "    \n",
    "    def __init__(self, model, train_loader, val_loader, unlabeled_loader, device):\n",
    "        self.model = model\n",
    "        self.train_loader = train_loader\n",
    "        self.val_loader = val_loader\n",
    "        self.unlabeled_loader = unlabeled_loader\n",
    "        self.device = device\n",
    "        \n",
    "        # Loss functions\n",
    "        self.ce_loss = nn.CrossEntropyLoss()\n",
    "        self.consistency_loss = ConsistencyLoss('mse')\n",
    "        self.pseudo_loss = PseudoLabelLoss(threshold=PSEUDO_THRESHOLD)\n",
    "        \n",
    "        # Optimizer and scheduler\n",
    "        self.optimizer = torch.optim.AdamW(model.parameters(), lr=LEARNING_RATE, weight_decay=WEIGHT_DECAY)\n",
    "        self.scheduler = torch.optim.lr_scheduler.CosineAnnealingLR(self.optimizer, T_max=EPOCHS)\n",
    "        \n",
    "        # Training history\n",
    "        self.history = {\n",
    "            'train_loss': [], 'val_loss': [], 'val_accuracy': [],\n",
    "            'labeled_loss': [], 'consistency_loss': [], 'pseudo_loss': []\n",
    "        }\n",
    "        \n",
    "    def train_epoch(self, epoch):\n",
    "        \"\"\"Train for one epoch\"\"\"\n",
    "        self.model.train()\n",
    "        \n",
    "        labeled_iter = iter(self.train_loader)\n",
    "        unlabeled_iter = iter(self.unlabeled_loader) if len(self.unlabeled_loader) > 0 else None\n",
    "        \n",
    "        total_loss = 0\n",
    "        labeled_loss_sum = 0\n",
    "        consistency_loss_sum = 0\n",
    "        pseudo_loss_sum = 0\n",
    "        num_batches = 0\n",
    "        \n",
    "        num_iterations = len(self.train_loader)\n",
    "        \n",
    "        with tqdm(total=num_iterations, desc=f'Epoch {epoch+1}/{EPOCHS}') as pbar:\n",
    "            for i in range(num_iterations):\n",
    "                self.optimizer.zero_grad()\n",
    "                total_batch_loss = 0\n",
    "                \n",
    "                # Process labeled batch\n",
    "                try:\n",
    "                    labeled_images, labels, _ = next(labeled_iter)\n",
    "                except StopIteration:\n",
    "                    labeled_iter = iter(self.train_loader)\n",
    "                    labeled_images, labels, _ = next(labeled_iter)\n",
    "                \n",
    "                labeled_images, labels = labeled_images.to(self.device), labels.to(self.device)\n",
    "                \n",
    "                # Supervised loss on labeled data\n",
    "                labeled_logits = self.model(labeled_images)\n",
    "                labeled_loss = self.ce_loss(labeled_logits, labels)\n",
    "                total_batch_loss += labeled_loss\n",
    "                labeled_loss_sum += labeled_loss.item()\n",
    "                \n",
    "                # Semi-supervised losses (after warmup period)\n",
    "                if epoch >= WARMUP_EPOCHS and unlabeled_iter is not None:\n",
    "                    try:\n",
    "                        weak_images, strong_images, _ = next(unlabeled_iter)\n",
    "                    except StopIteration:\n",
    "                        unlabeled_iter = iter(self.unlabeled_loader)\n",
    "                        weak_images, strong_images, _ = next(unlabeled_iter)\n",
    "                    \n",
    "                    weak_images = weak_images.to(self.device)\n",
    "                    strong_images = strong_images.to(self.device)\n",
    "                    \n",
    "                    # Get predictions for consistency loss\n",
    "                    weak_logits = self.model(weak_images)\n",
    "                    strong_logits = self.model(strong_images)\n",
    "                    \n",
    "                    # Consistency loss\n",
    "                    consistency_loss = self.consistency_loss(weak_logits, strong_logits)\n",
    "                    consistency_loss_weighted = CONSISTENCY_WEIGHT * consistency_loss\n",
    "                    total_batch_loss += consistency_loss_weighted\n",
    "                    consistency_loss_sum += consistency_loss.item()\n",
    "                    \n",
    "                    # Pseudo-label loss\n",
    "                    pseudo_loss = self.pseudo_loss(weak_logits)\n",
    "                    pseudo_loss_weighted = PSEUDO_LABEL_WEIGHT * pseudo_loss\n",
    "                    total_batch_loss += pseudo_loss_weighted\n",
    "                    pseudo_loss_sum += pseudo_loss.item()\n",
    "                \n",
    "                # Backward pass\n",
    "                total_batch_loss.backward()\n",
    "                self.optimizer.step()\n",
    "                \n",
    "                total_loss += total_batch_loss.item()\n",
    "                num_batches += 1\n",
    "                \n",
    "                pbar.set_postfix({\n",
    "                    'Loss': f'{total_batch_loss.item():.4f}',\n",
    "                    'LR': f'{self.optimizer.param_groups[0][\"lr\"]:.6f}'\n",
    "                })\n",
    "                pbar.update(1)\n",
    "        \n",
    "        # Calculate average losses\n",
    "        avg_total_loss = total_loss / num_batches\n",
    "        avg_labeled_loss = labeled_loss_sum / num_batches\n",
    "        avg_consistency_loss = consistency_loss_sum / num_batches if epoch >= WARMUP_EPOCHS else 0\n",
    "        avg_pseudo_loss = pseudo_loss_sum / num_batches if epoch >= WARMUP_EPOCHS else 0\n",
    "        \n",
    "        return avg_total_loss, avg_labeled_loss, avg_consistency_loss, avg_pseudo_loss\n",
    "    \n",
    "    def validate(self):\n",
    "        \"\"\"Validate the model\"\"\"\n",
    "        self.model.eval()\n",
    "        val_loss = 0\n",
    "        correct = 0\n",
    "        total = 0\n",
    "        \n",
    "        with torch.no_grad():\n",
    "            for images, labels, _ in self.val_loader:\n",
    "                images, labels = images.to(self.device), labels.to(self.device)\n",
    "                \n",
    "                outputs = self.model(images)\n",
    "                loss = self.ce_loss(outputs, labels)\n",
    "                val_loss += loss.item()\n",
    "                \n",
    "                _, predicted = torch.max(outputs, 1)\n",
    "                total += labels.size(0)\n",
    "                correct += (predicted == labels).sum().item()\n",
    "        \n",
    "        avg_val_loss = val_loss / len(self.val_loader)\n",
    "        val_accuracy = 100 * correct / total\n",
    "        \n",
    "        return avg_val_loss, val_accuracy\n",
    "    \n",
    "    def train(self):\n",
    "        \"\"\"Full training loop\"\"\"\n",
    "        print(f\"\\nStarting semi-supervised training...\")\n",
    "        print(f\"Warmup period: {WARMUP_EPOCHS} epochs\")\n",
    "        \n",
    "        best_val_accuracy = 0\n",
    "        patience_counter = 0\n",
    "        patience = 15\n",
    "        \n",
    "        for epoch in range(EPOCHS):\n",
    "            # Training\n",
    "            train_loss, labeled_loss, consistency_loss, pseudo_loss = self.train_epoch(epoch)\n",
    "            \n",
    "            # Validation\n",
    "            val_loss, val_accuracy = self.validate()\n",
    "            \n",
    "            # Scheduler step\n",
    "            self.scheduler.step()\n",
    "            \n",
    "            # Save history\n",
    "            self.history['train_loss'].append(train_loss)\n",
    "            self.history['val_loss'].append(val_loss)\n",
    "            self.history['val_accuracy'].append(val_accuracy)\n",
    "            self.history['labeled_loss'].append(labeled_loss)\n",
    "            self.history['consistency_loss'].append(consistency_loss)\n",
    "            self.history['pseudo_loss'].append(pseudo_loss)\n",
    "            \n",
    "            # Print progress\n",
    "            ssl_info = \"\"\n",
    "            if epoch >= WARMUP_EPOCHS:\n",
    "                ssl_info = f\", Consistency: {consistency_loss:.4f}, Pseudo: {pseudo_loss:.4f}\"\n",
    "            \n",
    "            print(f\"Epoch {epoch+1:3d}/{EPOCHS} | \"\n",
    "                  f\"Train Loss: {train_loss:.4f}, Val Loss: {val_loss:.4f}, \"\n",
    "                  f\"Val Acc: {val_accuracy:.2f}%{ssl_info}\")\n",
    "            \n",
    "            # Save best model\n",
    "            if val_accuracy > best_val_accuracy:\n",
    "                best_val_accuracy = val_accuracy\n",
    "                patience_counter = 0\n",
    "                self.save_model(epoch, val_accuracy, 'best')\n",
    "            else:\n",
    "                patience_counter += 1\n",
    "            \n",
    "            # Early stopping\n",
    "            if patience_counter >= patience:\n",
    "                print(f\"Early stopping triggered after {epoch+1} epochs\")\n",
    "                break\n",
    "            \n",
    "            # Save checkpoint every 10 epochs\n",
    "            if (epoch + 1) % 10 == 0:\n",
    "                self.save_model(epoch, val_accuracy, 'checkpoint')\n",
    "        \n",
    "        print(f\"\\nTraining completed! Best validation accuracy: {best_val_accuracy:.2f}%\")\n",
    "        return self.history\n",
    "    \n",
    "    def save_model(self, epoch, val_accuracy, suffix=''):\n",
    "        \"\"\"Save model checkpoint\"\"\"\n",
    "        checkpoint = {\n",
    "            'epoch': epoch,\n",
    "            'model_state_dict': self.model.state_dict(),\n",
    "            'optimizer_state_dict': self.optimizer.state_dict(),\n",
    "            'scheduler_state_dict': self.scheduler.state_dict(),\n",
    "            'val_accuracy': val_accuracy,\n",
    "            'history': self.history,\n",
    "            'config': model_config\n",
    "        }\n",
    "        \n",
    "        filename = f\"ssl_model_{suffix}_{epoch+1:03d}_{val_accuracy:.1f}.pth\"\n",
    "        filepath = ARTIFACTS_DIR / filename\n",
    "        torch.save(checkpoint, filepath)\n",
    "        print(f\"Model saved: {filepath}\")\n",
    "\n",
    "print(\"SSL Trainer class defined\")"
   ]
  },
  {
   "cell_type": "code",
   "execution_count": 10,
   "id": "62ae35c0",
   "metadata": {},
   "outputs": [
    {
     "name": "stdout",
     "output_type": "stream",
     "text": [
      "Plotting functions defined\n"
     ]
    }
   ],
   "source": [
    "# ============================================================\n",
    "# Cell 10: Plotting Functions\n",
    "# ============================================================\n",
    "def plot_training_history(history):\n",
    "    \"\"\"Plot training history\"\"\"\n",
    "    fig, axes = plt.subplots(2, 2, figsize=(15, 10))\n",
    "    \n",
    "    # Loss curves\n",
    "    axes[0, 0].plot(history['train_loss'], label='Train Loss')\n",
    "    axes[0, 0].plot(history['val_loss'], label='Val Loss')\n",
    "    axes[0, 0].set_title('Loss Curves')\n",
    "    axes[0, 0].set_xlabel('Epoch')\n",
    "    axes[0, 0].set_ylabel('Loss')\n",
    "    axes[0, 0].legend()\n",
    "    axes[0, 0].grid(True)\n",
    "    \n",
    "    # Accuracy curve\n",
    "    axes[0, 1].plot(history['val_accuracy'], label='Val Accuracy')\n",
    "    axes[0, 1].set_title('Validation Accuracy')\n",
    "    axes[0, 1].set_xlabel('Epoch')\n",
    "    axes[0, 1].set_ylabel('Accuracy (%)')\n",
    "    axes[0, 1].legend()\n",
    "    axes[0, 1].grid(True)\n",
    "    \n",
    "    # SSL loss components\n",
    "    axes[1, 0].plot(history['labeled_loss'], label='Labeled Loss')\n",
    "    axes[1, 0].plot(history['consistency_loss'], label='Consistency Loss')\n",
    "    axes[1, 0].plot(history['pseudo_loss'], label='Pseudo Loss')\n",
    "    axes[1, 0].set_title('SSL Loss Components')\n",
    "    axes[1, 0].set_xlabel('Epoch')\n",
    "    axes[1, 0].set_ylabel('Loss')\n",
    "    axes[1, 0].legend()\n",
    "    axes[1, 0].grid(True)\n",
    "    \n",
    "    # Combined view\n",
    "    ax2 = axes[1, 1]\n",
    "    ax2_twin = ax2.twinx()\n",
    "    \n",
    "    ax2.plot(history['train_loss'], 'b-', label='Train Loss')\n",
    "    ax2_twin.plot(history['val_accuracy'], 'r-', label='Val Accuracy')\n",
    "    \n",
    "    ax2.set_xlabel('Epoch')\n",
    "    ax2.set_ylabel('Loss', color='b')\n",
    "    ax2_twin.set_ylabel('Accuracy (%)', color='r')\n",
    "    ax2.set_title('Loss vs Accuracy')\n",
    "    ax2.grid(True)\n",
    "    \n",
    "    # Add legends\n",
    "    lines1, labels1 = ax2.get_legend_handles_labels()\n",
    "    lines2, labels2 = ax2_twin.get_legend_handles_labels()\n",
    "    ax2.legend(lines1 + lines2, labels1 + labels2, loc='center right')\n",
    "    \n",
    "    plt.tight_layout()\n",
    "    plt.savefig(ARTIFACTS_DIR / \"training_history.png\", dpi=300, bbox_inches='tight')\n",
    "    plt.show()\n",
    "\n",
    "print(\"Plotting functions defined\")"
   ]
  },
  {
   "cell_type": "code",
   "execution_count": 11,
   "id": "9cc89209",
   "metadata": {},
   "outputs": [],
   "source": [
    "# ============================================================\n",
    "# Cell 11: Main Training Execution\n",
    "# ============================================================\n",
    "def main():\n",
    "    print(\"=\"*60)\n",
    "    print(\"SEMI-SUPERVISED LEARNING TRAINING\")\n",
    "    print(\"=\"*60)\n",
    "    \n",
    "    # Load datasets\n",
    "    train_paths, train_labels, val_paths, val_labels, unlabeled_paths = load_datasets()\n",
    "    \n",
    "    # Create data loaders\n",
    "    train_loader, val_loader, unlabeled_loader = create_data_loaders(\n",
    "        train_paths, train_labels, val_paths, val_labels, unlabeled_paths\n",
    "    )\n",
    "    \n",
    "    print(f\"\\nData loader summary:\")\n",
    "    print(f\"  Train batches: {len(train_loader)}\")\n",
    "    print(f\"  Validation batches: {len(val_loader)}\")\n",
    "    print(f\"  Unlabeled batches: {len(unlabeled_loader)}\")\n",
    "    \n",
    "    # Create model\n",
    "    model = create_ssl_model(\n",
    "        num_classes=model_config[\"model_architecture\"][\"num_classes\"],\n",
    "        model_name=model_config[\"model_architecture\"][\"backbone\"],\n",
    "        dropout_rate=model_config[\"model_architecture\"][\"dropout_rate\"]\n",
    "    ).to(DEVICE)\n",
    "    \n",
    "    print(f\"\\nModel summary:\")\n",
    "    total_params, trainable_params = count_parameters(model)\n",
    "    print(f\"  Total parameters: {total_params:,}\")\n",
    "    print(f\"  Trainable parameters: {trainable_params:,}\")\n",
    "    \n",
    "    # Create trainer and start training\n",
    "    trainer = SSLTrainer(model, train_loader, val_loader, unlabeled_loader, DEVICE)\n",
    "    \n",
    "    # Train the model\n",
    "    start_time = time.time()\n",
    "    history = trainer.train()\n",
    "    training_time = time.time() - start_time\n",
    "    \n",
    "    print(f\"\\nTraining completed in {training_time/60:.1f} minutes\")\n",
    "    \n",
    "    # Plot training history\n",
    "    plot_training_history(history)\n",
    "    \n",
    "    # Save final history\n",
    "    with open(ARTIFACTS_DIR / \"training_history.json\", \"w\") as f:\n",
    "        json.dump(history, f, indent=2)\n",
    "    \n",
    "    print(f\"\\nTraining artifacts saved to: {ARTIFACTS_DIR}\")\n",
    "    print(\"Ready for evaluation with 04_evaluation.ipynb!\")\n",
    "    \n",
    "    # Generate evaluation files\n",
    "    print(\"\\nGenerating evaluation files...\")\n",
    "    \n",
    "    # Load best model for evaluation file generation\n",
    "    best_models = list(ARTIFACTS_DIR.glob(\"ssl_model_best_*.pth\"))\n",
    "    if best_models:\n",
    "        best_model_path = max(best_models, key=lambda x: x.stat().st_mtime)\n",
    "        checkpoint = torch.load(best_model_path, map_location=DEVICE)\n",
    "        model.load_state_dict(checkpoint['model_state_dict'])\n",
    "        \n",
    "        # Generate evaluation files\n",
    "        model.eval()\n",
    "        all_labels, all_probs = [], []\n",
    "        \n",
    "        with torch.no_grad():\n",
    "            for images, labels, _ in val_loader:\n",
    "                images = images.to(DEVICE)\n",
    "                logits = model(images)\n",
    "                probs = F.softmax(logits, dim=1).cpu().numpy()\n",
    "                \n",
    "                all_labels.extend(labels.numpy())\n",
    "                all_probs.extend(probs)\n",
    "        \n",
    "        # Save evaluation files\n",
    "        eval_labels = np.array(all_labels)\n",
    "        eval_probs = np.array(all_probs)\n",
    "        \n",
    "        np.save(ARTIFACTS_DIR / \"eval_labels.npy\", eval_labels)\n",
    "        np.save(ARTIFACTS_DIR / \"eval_probs.npy\", eval_probs)\n",
    "        \n",
    "        print(f\"Saved evaluation files:\")\n",
    "        print(f\"  Labels: {eval_labels.shape}\")\n",
    "        print(f\"  Probabilities: {eval_probs.shape}\")\n",
    "        print(\"Ready for comprehensive evaluation!\")\n",
    "    else:\n",
    "        print(\"No trained model found for evaluation file for generation\")"
   ]
  },
  {
   "cell_type": "code",
   "execution_count": 12,
   "id": "685a2baf",
   "metadata": {},
   "outputs": [
    {
     "name": "stdout",
     "output_type": "stream",
     "text": [
      "============================================================\n",
      "SEMI-SUPERVISED LEARNING TRAINING\n",
      "============================================================\n",
      "Loaded 190 labeled images\n",
      "Class distribution: Counter({1: 98, 0: 92})\n",
      "Training set: 152 images\n",
      "Validation set: 38 images\n",
      "Loaded 6377 unlabeled images\n",
      "\n",
      "Data loader summary:\n",
      "  Train batches: 10\n",
      "  Validation batches: 3\n",
      "  Unlabeled batches: 200\n",
      "\n",
      "Model summary:\n",
      "  Total parameters: 4,705,086\n",
      "  Trainable parameters: 4,705,086\n",
      "\n",
      "Starting semi-supervised training...\n",
      "Warmup period: 10 epochs\n"
     ]
    },
    {
     "name": "stderr",
     "output_type": "stream",
     "text": [
      "Epoch 1/50: 100%|██████████| 10/10 [00:56<00:00,  5.62s/it, Loss=1.0792, LR=0.000100]\n"
     ]
    },
    {
     "name": "stdout",
     "output_type": "stream",
     "text": [
      "Epoch   1/50 | Train Loss: 0.8496, Val Loss: 0.6847, Val Acc: 57.89%\n",
      "Model saved: artifacts\\ssl_model_best_001_57.9.pth\n"
     ]
    },
    {
     "name": "stderr",
     "output_type": "stream",
     "text": [
      "Epoch 2/50: 100%|██████████| 10/10 [00:51<00:00,  5.18s/it, Loss=0.6772, LR=0.000100]\n"
     ]
    },
    {
     "name": "stdout",
     "output_type": "stream",
     "text": [
      "Epoch   2/50 | Train Loss: 0.6399, Val Loss: 0.6854, Val Acc: 63.16%\n",
      "Model saved: artifacts\\ssl_model_best_002_63.2.pth\n"
     ]
    },
    {
     "name": "stderr",
     "output_type": "stream",
     "text": [
      "Epoch 3/50: 100%|██████████| 10/10 [00:48<00:00,  4.82s/it, Loss=0.3996, LR=0.000100]\n"
     ]
    },
    {
     "name": "stdout",
     "output_type": "stream",
     "text": [
      "Epoch   3/50 | Train Loss: 0.5296, Val Loss: 0.6561, Val Acc: 65.79%\n",
      "Model saved: artifacts\\ssl_model_best_003_65.8.pth\n"
     ]
    },
    {
     "name": "stderr",
     "output_type": "stream",
     "text": [
      "Epoch 4/50: 100%|██████████| 10/10 [01:15<00:00,  7.58s/it, Loss=0.4537, LR=0.000099]\n"
     ]
    },
    {
     "name": "stdout",
     "output_type": "stream",
     "text": [
      "Epoch   4/50 | Train Loss: 0.4945, Val Loss: 0.6514, Val Acc: 65.79%\n"
     ]
    },
    {
     "name": "stderr",
     "output_type": "stream",
     "text": [
      "Epoch 5/50: 100%|██████████| 10/10 [01:20<00:00,  8.04s/it, Loss=0.4123, LR=0.000098]\n"
     ]
    },
    {
     "name": "stdout",
     "output_type": "stream",
     "text": [
      "Epoch   5/50 | Train Loss: 0.4113, Val Loss: 0.6295, Val Acc: 73.68%\n",
      "Model saved: artifacts\\ssl_model_best_005_73.7.pth\n"
     ]
    },
    {
     "name": "stderr",
     "output_type": "stream",
     "text": [
      "Epoch 6/50: 100%|██████████| 10/10 [01:39<00:00, 10.00s/it, Loss=0.2079, LR=0.000098]\n"
     ]
    },
    {
     "name": "stdout",
     "output_type": "stream",
     "text": [
      "Epoch   6/50 | Train Loss: 0.3529, Val Loss: 0.6706, Val Acc: 68.42%\n"
     ]
    },
    {
     "name": "stderr",
     "output_type": "stream",
     "text": [
      "Epoch 7/50: 100%|██████████| 10/10 [01:45<00:00, 10.57s/it, Loss=0.3094, LR=0.000096]\n"
     ]
    },
    {
     "name": "stdout",
     "output_type": "stream",
     "text": [
      "Epoch   7/50 | Train Loss: 0.2972, Val Loss: 0.6991, Val Acc: 68.42%\n"
     ]
    },
    {
     "name": "stderr",
     "output_type": "stream",
     "text": [
      "Epoch 8/50: 100%|██████████| 10/10 [01:46<00:00, 10.70s/it, Loss=0.2074, LR=0.000095]\n"
     ]
    },
    {
     "name": "stdout",
     "output_type": "stream",
     "text": [
      "Epoch   8/50 | Train Loss: 0.2605, Val Loss: 0.7001, Val Acc: 71.05%\n"
     ]
    },
    {
     "name": "stderr",
     "output_type": "stream",
     "text": [
      "Epoch 9/50: 100%|██████████| 10/10 [00:41<00:00,  4.19s/it, Loss=0.2917, LR=0.000094]\n"
     ]
    },
    {
     "name": "stdout",
     "output_type": "stream",
     "text": [
      "Epoch   9/50 | Train Loss: 0.2229, Val Loss: 0.7225, Val Acc: 73.68%\n"
     ]
    },
    {
     "name": "stderr",
     "output_type": "stream",
     "text": [
      "Epoch 10/50: 100%|██████████| 10/10 [00:43<00:00,  4.32s/it, Loss=0.4520, LR=0.000092]\n"
     ]
    },
    {
     "name": "stdout",
     "output_type": "stream",
     "text": [
      "Epoch  10/50 | Train Loss: 0.1965, Val Loss: 0.7374, Val Acc: 78.95%\n",
      "Model saved: artifacts\\ssl_model_best_010_78.9.pth\n",
      "Model saved: artifacts\\ssl_model_checkpoint_010_78.9.pth\n"
     ]
    },
    {
     "name": "stderr",
     "output_type": "stream",
     "text": [
      "Epoch 11/50: 100%|██████████| 10/10 [03:10<00:00, 19.04s/it, Loss=1.0328, LR=0.000090]\n"
     ]
    },
    {
     "name": "stdout",
     "output_type": "stream",
     "text": [
      "Epoch  11/50 | Train Loss: 1.1712, Val Loss: 1.3734, Val Acc: 60.53%, Consistency: 0.0953, Pseudo: 0.0314\n"
     ]
    },
    {
     "name": "stderr",
     "output_type": "stream",
     "text": [
      "Epoch 12/50: 100%|██████████| 10/10 [03:11<00:00, 19.16s/it, Loss=1.0072, LR=0.000089]\n"
     ]
    },
    {
     "name": "stdout",
     "output_type": "stream",
     "text": [
      "Epoch  12/50 | Train Loss: 0.9190, Val Loss: 1.7099, Val Acc: 57.89%, Consistency: 0.0680, Pseudo: 0.0242\n"
     ]
    },
    {
     "name": "stderr",
     "output_type": "stream",
     "text": [
      "Epoch 13/50: 100%|██████████| 10/10 [03:02<00:00, 18.24s/it, Loss=0.8212, LR=0.000086]\n"
     ]
    },
    {
     "name": "stdout",
     "output_type": "stream",
     "text": [
      "Epoch  13/50 | Train Loss: 0.7497, Val Loss: 2.0032, Val Acc: 57.89%, Consistency: 0.0533, Pseudo: 0.0188\n"
     ]
    },
    {
     "name": "stderr",
     "output_type": "stream",
     "text": [
      "Epoch 14/50: 100%|██████████| 10/10 [02:58<00:00, 17.85s/it, Loss=0.5740, LR=0.000084]\n"
     ]
    },
    {
     "name": "stdout",
     "output_type": "stream",
     "text": [
      "Epoch  14/50 | Train Loss: 0.6070, Val Loss: 1.9899, Val Acc: 57.89%, Consistency: 0.0399, Pseudo: 0.0173\n"
     ]
    },
    {
     "name": "stderr",
     "output_type": "stream",
     "text": [
      "Epoch 15/50: 100%|██████████| 10/10 [03:05<00:00, 18.52s/it, Loss=0.8482, LR=0.000082]\n"
     ]
    },
    {
     "name": "stdout",
     "output_type": "stream",
     "text": [
      "Epoch  15/50 | Train Loss: 0.5663, Val Loss: 1.9218, Val Acc: 55.26%, Consistency: 0.0357, Pseudo: 0.0138\n"
     ]
    },
    {
     "name": "stderr",
     "output_type": "stream",
     "text": [
      "Epoch 16/50: 100%|██████████| 10/10 [02:56<00:00, 17.69s/it, Loss=0.6388, LR=0.000079]\n"
     ]
    },
    {
     "name": "stdout",
     "output_type": "stream",
     "text": [
      "Epoch  16/50 | Train Loss: 0.5477, Val Loss: 1.6841, Val Acc: 52.63%, Consistency: 0.0351, Pseudo: 0.0151\n"
     ]
    },
    {
     "name": "stderr",
     "output_type": "stream",
     "text": [
      "Epoch 17/50: 100%|██████████| 10/10 [03:05<00:00, 18.52s/it, Loss=0.4692, LR=0.000077]\n"
     ]
    },
    {
     "name": "stdout",
     "output_type": "stream",
     "text": [
      "Epoch  17/50 | Train Loss: 0.5338, Val Loss: 1.5383, Val Acc: 63.16%, Consistency: 0.0356, Pseudo: 0.0155\n"
     ]
    },
    {
     "name": "stderr",
     "output_type": "stream",
     "text": [
      "Epoch 18/50: 100%|██████████| 10/10 [02:58<00:00, 17.86s/it, Loss=1.0437, LR=0.000074]\n"
     ]
    },
    {
     "name": "stdout",
     "output_type": "stream",
     "text": [
      "Epoch  18/50 | Train Loss: 0.5345, Val Loss: 1.6434, Val Acc: 60.53%, Consistency: 0.0335, Pseudo: 0.0164\n"
     ]
    },
    {
     "name": "stderr",
     "output_type": "stream",
     "text": [
      "Epoch 19/50: 100%|██████████| 10/10 [02:58<00:00, 17.85s/it, Loss=0.8392, LR=0.000071]\n"
     ]
    },
    {
     "name": "stdout",
     "output_type": "stream",
     "text": [
      "Epoch  19/50 | Train Loss: 0.5256, Val Loss: 1.6481, Val Acc: 60.53%, Consistency: 0.0299, Pseudo: 0.0148\n"
     ]
    },
    {
     "name": "stderr",
     "output_type": "stream",
     "text": [
      "Epoch 20/50: 100%|██████████| 10/10 [02:59<00:00, 17.98s/it, Loss=0.4240, LR=0.000068]\n"
     ]
    },
    {
     "name": "stdout",
     "output_type": "stream",
     "text": [
      "Epoch  20/50 | Train Loss: 0.3417, Val Loss: 1.4529, Val Acc: 65.79%, Consistency: 0.0214, Pseudo: 0.0122\n",
      "Model saved: artifacts\\ssl_model_checkpoint_020_65.8.pth\n"
     ]
    },
    {
     "name": "stderr",
     "output_type": "stream",
     "text": [
      "Epoch 21/50: 100%|██████████| 10/10 [02:54<00:00, 17.48s/it, Loss=0.1746, LR=0.000065]\n"
     ]
    },
    {
     "name": "stdout",
     "output_type": "stream",
     "text": [
      "Epoch  21/50 | Train Loss: 0.3103, Val Loss: 1.5986, Val Acc: 60.53%, Consistency: 0.0224, Pseudo: 0.0143\n"
     ]
    },
    {
     "name": "stderr",
     "output_type": "stream",
     "text": [
      "Epoch 22/50: 100%|██████████| 10/10 [03:08<00:00, 18.87s/it, Loss=0.5669, LR=0.000062]\n"
     ]
    },
    {
     "name": "stdout",
     "output_type": "stream",
     "text": [
      "Epoch  22/50 | Train Loss: 0.3654, Val Loss: 1.9199, Val Acc: 55.26%, Consistency: 0.0236, Pseudo: 0.0124\n"
     ]
    },
    {
     "name": "stderr",
     "output_type": "stream",
     "text": [
      "Epoch 23/50: 100%|██████████| 10/10 [03:21<00:00, 20.19s/it, Loss=0.1161, LR=0.000059]\n"
     ]
    },
    {
     "name": "stdout",
     "output_type": "stream",
     "text": [
      "Epoch  23/50 | Train Loss: 0.3366, Val Loss: 1.5080, Val Acc: 63.16%, Consistency: 0.0229, Pseudo: 0.0152\n"
     ]
    },
    {
     "name": "stderr",
     "output_type": "stream",
     "text": [
      "Epoch 24/50: 100%|██████████| 10/10 [03:04<00:00, 18.48s/it, Loss=0.2499, LR=0.000056]\n"
     ]
    },
    {
     "name": "stdout",
     "output_type": "stream",
     "text": [
      "Epoch  24/50 | Train Loss: 0.3738, Val Loss: 1.5059, Val Acc: 60.53%, Consistency: 0.0268, Pseudo: 0.0124\n"
     ]
    },
    {
     "name": "stderr",
     "output_type": "stream",
     "text": [
      "Epoch 25/50: 100%|██████████| 10/10 [03:35<00:00, 21.60s/it, Loss=0.5173, LR=0.000053]\n"
     ]
    },
    {
     "name": "stdout",
     "output_type": "stream",
     "text": [
      "Epoch  25/50 | Train Loss: 0.4278, Val Loss: 1.5435, Val Acc: 57.89%, Consistency: 0.0296, Pseudo: 0.0136\n",
      "Early stopping triggered after 25 epochs\n",
      "\n",
      "Training completed! Best validation accuracy: 78.95%\n",
      "\n",
      "Training completed in 59.8 minutes\n"
     ]
    },
    {
     "data": {
      "image/png": "[encoded data removed]",
      "text/plain": [
       "<Figure size 1500x1000 with 5 Axes>"
      ]
     },
     "metadata": {},
     "output_type": "display_data"
    },
    {
     "name": "stdout",
     "output_type": "stream",
     "text": [
      "\n",
      "Training artifacts saved to: artifacts\n",
      "Ready for evaluation with 04_evaluation.ipynb!\n",
      "\n",
      "Generating evaluation files...\n",
      "Saved evaluation files:\n",
      "  Labels: (38,)\n",
      "  Probabilities: (38, 2)\n",
      "Ready for comprehensive evaluation!\n"
     ]
    }
   ],
   "source": [
    "# ============================================================\n",
    "# Cell 12: Execute Training (Run this cell to start training)\n",
    "# ============================================================\n",
    "if __name__ == \"__main__\":\n",
    "    main()"
   ]
  }
 ],
 "metadata": {
  "kernelspec": {
   "display_name": "venv",
   "language": "python",
   "name": "python3"
  },
  "language_info": {
   "codemirror_mode": {
    "name": "ipython",
    "version": 3
   },
   "file_extension": ".py",
   "mimetype": "text/x-python",
   "name": "python",
   "nbconvert_exporter": "python",
   "pygments_lexer": "ipython3",
   "version": "3.11.9"
  }
 },
 "nbformat": 4,
 "nbformat_minor": 5
}
