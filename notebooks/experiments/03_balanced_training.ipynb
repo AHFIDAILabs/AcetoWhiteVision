{
 "cells": [
  {
   "cell_type": "code",
   "execution_count": 21,
   "id": "26b6935a",
   "metadata": {},
   "outputs": [
    {
     "name": "stdout",
     "output_type": "stream",
     "text": [
      "Current directory: c:\\09_AHFID\\CervicalAI-Screen\n"
     ]
    }
   ],
   "source": [
    "# ============================================================\n",
    "# Setup and Directory Management\n",
    "# ============================================================\n",
    "import os\n",
    "import sys\n",
    "from pathlib import Path\n",
    "\n",
    "# Check current directory\n",
    "print(f\"Current directory: {os.getcwd()}\")\n",
    "\n",
    "# If we're in the notebook directory, move to project root\n",
    "if 'notebook' in os.getcwd():\n",
    "    os.chdir('../')\n",
    "    print(f\"Changed to: {os.getcwd()}\")"
   ]
  },
  {
   "cell_type": "code",
   "execution_count": 22,
   "id": "a1052240",
   "metadata": {},
   "outputs": [
    {
     "name": "stdout",
     "output_type": "stream",
     "text": [
      "Libraries imported successfully\n"
     ]
    }
   ],
   "source": [
    "# ============================================================\n",
    "# Import Required Libraries\n",
    "# ============================================================\n",
    "import torch\n",
    "import torch.nn as nn\n",
    "import torch.nn.functional as F\n",
    "from torch.utils.data import Dataset, DataLoader, WeightedRandomSampler\n",
    "import torchvision.transforms as transforms\n",
    "import numpy as np\n",
    "import json\n",
    "import random\n",
    "from pathlib import Path\n",
    "from PIL import Image\n",
    "from collections import Counter\n",
    "import matplotlib.pyplot as plt\n",
    "from sklearn.model_selection import train_test_split\n",
    "from sklearn.utils.class_weight import compute_class_weight\n",
    "from tqdm import tqdm\n",
    "import time\n",
    "import timm\n",
    "import warnings\n",
    "warnings.filterwarnings('ignore')\n",
    "\n",
    "# Set seeds for reproducibility\n",
    "SEED = 42\n",
    "random.seed(SEED)\n",
    "np.random.seed(SEED)\n",
    "torch.manual_seed(SEED)\n",
    "if torch.cuda.is_available():\n",
    "    torch.cuda.manual_seed_all(SEED)\n",
    "\n",
    "print(\"Libraries imported successfully\")"
   ]
  },
  {
   "cell_type": "code",
   "execution_count": 23,
   "id": "ec3aa54c",
   "metadata": {},
   "outputs": [
    {
     "name": "stdout",
     "output_type": "stream",
     "text": [
      "Model architecture defined\n"
     ]
    }
   ],
   "source": [
    "# ============================================================\n",
    "# Define Model Architecture\n",
    "# ============================================================\n",
    "class SSLEfficientNet(nn.Module):\n",
    "    def __init__(self, model_name='efficientnet_b0', num_classes=2, dropout_rate=0.3):\n",
    "        super(SSLEfficientNet, self).__init__()\n",
    "        self.backbone = timm.create_model(model_name, pretrained=True, num_classes=0)\n",
    "        self.feature_dim = self.backbone.num_features\n",
    "        self.projector = nn.Sequential(nn.Linear(self.feature_dim, 256), nn.ReLU(inplace=True), nn.Linear(256, 128), nn.ReLU(inplace=True), nn.Linear(128, 64))\n",
    "        self.classifier = nn.Sequential(nn.Dropout(dropout_rate), nn.Linear(self.feature_dim, 256), nn.ReLU(inplace=True), nn.Dropout(dropout_rate * 0.5), nn.Linear(256, num_classes))\n",
    "        self._initialize_weights()\n",
    "    def _initialize_weights(self):\n",
    "        for m in [self.projector, self.classifier]:\n",
    "            for layer in m:\n",
    "                if isinstance(layer, nn.Linear):\n",
    "                    nn.init.xavier_uniform_(layer.weight)\n",
    "                    if layer.bias is not None:\n",
    "                        nn.init.constant_(layer.bias, 0)\n",
    "    def forward(self, x): return self.classifier(self.backbone(x))\n",
    "\n",
    "def create_model(num_classes=2, model_name='efficientnet_b0', dropout_rate=0.3):\n",
    "    return SSLEfficientNet(model_name=model_name, num_classes=num_classes, dropout_rate=dropout_rate)\n",
    "\n",
    "print(\"Model architecture defined\")"
   ]
  },
  {
   "cell_type": "code",
   "execution_count": 24,
   "id": "034605b9",
   "metadata": {},
   "outputs": [
    {
     "name": "stdout",
     "output_type": "stream",
     "text": [
      "Weighted Focal Loss function defined\n"
     ]
    }
   ],
   "source": [
    "# ============================================================\n",
    "# Simplified and Stabilized Loss Function\n",
    "# ============================================================\n",
    "class WeightedFocalLoss(nn.Module):\n",
    "    \"\"\"Focal loss with alpha weighting to handle imbalance and prioritize positive class.\"\"\"\n",
    "    def __init__(self, alpha=0.9, gamma=2.0):\n",
    "        super(WeightedFocalLoss, self).__init__()\n",
    "        self.alpha = torch.tensor([1 - alpha, alpha]) # alpha for positive class\n",
    "        self.gamma = gamma\n",
    "\n",
    "    def forward(self, inputs, targets):\n",
    "        BCE_loss = F.cross_entropy(inputs, targets, reduction='none')\n",
    "        targets = targets.type(torch.long)\n",
    "        at = self.alpha.gather(0, targets.data.view(-1)).to(inputs.device)\n",
    "        pt = torch.exp(-BCE_loss)\n",
    "        F_loss = at * (1 - pt)**self.gamma * BCE_loss\n",
    "        return F_loss.mean()\n",
    "\n",
    "print(\"Weighted Focal Loss function defined\")"
   ]
  },
  {
   "cell_type": "code",
   "execution_count": 25,
   "id": "2d3e6f15",
   "metadata": {},
   "outputs": [
    {
     "name": "stdout",
     "output_type": "stream",
     "text": [
      "SSL Datasets and transforms defined\n"
     ]
    }
   ],
   "source": [
    "# ============================================================\n",
    "# Dataset and Transform Definitions\n",
    "# ============================================================\n",
    "class LabeledDataset(Dataset):\n",
    "    def __init__(self, paths, labels, transform_map): self.paths, self.labels, self.tm = paths, labels, transform_map\n",
    "    def __len__(self): return len(self.paths)\n",
    "    def __getitem__(self, idx):\n",
    "        img = Image.open(self.paths[idx]).convert('RGB')\n",
    "        label = self.labels[idx]\n",
    "        return self.tm[label](img), label\n",
    "\n",
    "class UnlabeledDataset(Dataset):\n",
    "    def __init__(self, paths, weak_tf, strong_tf): self.paths, self.weak_tf, self.strong_tf = paths, weak_tf, strong_tf\n",
    "    def __len__(self): return len(self.paths)\n",
    "    def __getitem__(self, idx):\n",
    "        img = Image.open(self.paths[idx]).convert('RGB')\n",
    "        return self.weak_tf(img), self.strong_tf(img)\n",
    "\n",
    "class ValidationDataset(Dataset):\n",
    "    def __init__(self, paths, labels, transform): self.paths, self.labels, self.tf = paths, labels, transform\n",
    "    def __len__(self): return len(self.paths)\n",
    "    def __getitem__(self, idx):\n",
    "        img = Image.open(self.paths[idx]).convert('RGB')\n",
    "        return self.tf(img), self.labels[idx]\n",
    "\n",
    "norm_params = {'mean': [0.485, 0.456, 0.406], 'std': [0.229, 0.224, 0.225]}\n",
    "strong_transform = transforms.Compose([\n",
    "    transforms.Resize((224, 224)), transforms.RandomHorizontalFlip(p=0.5), transforms.RandomVerticalFlip(p=0.5),\n",
    "    transforms.RandomRotation(degrees=30), transforms.ColorJitter(brightness=0.4, contrast=0.4, saturation=0.2, hue=0.1),\n",
    "    transforms.RandomAffine(degrees=20, translate=(0.1, 0.1), scale=(0.8, 1.2)),\n",
    "    transforms.ToTensor(), transforms.Normalize(**norm_params)\n",
    "])\n",
    "moderate_transform = transforms.Compose([\n",
    "    transforms.Resize((224, 224)), transforms.RandomHorizontalFlip(p=0.5),\n",
    "    transforms.ColorJitter(brightness=0.2, contrast=0.2),\n",
    "    transforms.ToTensor(), transforms.Normalize(**norm_params)\n",
    "])\n",
    "weak_transform = transforms.Compose([transforms.Resize((224, 224)), transforms.ToTensor(), transforms.Normalize(**norm_params)])\n",
    "val_transform = transforms.Compose([transforms.Resize((224, 224)), transforms.ToTensor(), transforms.Normalize(**norm_params)])\n",
    "\n",
    "print(\"SSL Datasets and transforms defined\")"
   ]
  },
  {
   "cell_type": "code",
   "execution_count": 26,
   "id": "0c0263f3",
   "metadata": {},
   "outputs": [
    {
     "name": "stdout",
     "output_type": "stream",
     "text": [
      "Data loading function defined\n"
     ]
    }
   ],
   "source": [
    "# ============================================================\n",
    "# Data Loading Function\n",
    "# ============================================================\n",
    "def load_and_prepare_data():\n",
    "    ARTIFACTS_DIR = Path(\"artifacts\")\n",
    "    with open(ARTIFACTS_DIR / \"data_metadata.json\", \"r\") as f: data_metadata = json.load(f)\n",
    "    data_dir = Path(data_metadata[\"data_dir\"])\n",
    "    labeled_dir, unlabeled_dir = data_dir / \"labeled\", data_dir / \"unlabeled\"\n",
    "    \n",
    "    labeled_paths, labels = [], []\n",
    "    for name, idx in {\"Negative\": 0, \"Positive\": 1}.items():\n",
    "        class_dir = labeled_dir / name\n",
    "        if class_dir.exists():\n",
    "            for path in class_dir.glob(\"*.[jp][pn]g\"): labeled_paths.append(str(path)); labels.append(idx)\n",
    "    \n",
    "    unlabeled_paths = [str(p) for p in unlabeled_dir.glob(\"*.[jp][pn]g\")] if unlabeled_dir.exists() else []\n",
    "    print(f\"Loaded {len(labeled_paths)} labeled ({Counter(labels)}) and {len(unlabeled_paths)} unlabeled images.\")\n",
    "    \n",
    "    train_paths, val_paths, train_labels, val_labels = train_test_split(labeled_paths, labels, test_size=0.2, random_state=SEED, stratify=labels)\n",
    "    \n",
    "    train_dataset = LabeledDataset(train_paths, train_labels, transform_map={0: moderate_transform, 1: strong_transform})\n",
    "    val_dataset = ValidationDataset(val_paths, val_labels, val_transform)\n",
    "    unlabeled_dataset = UnlabeledDataset(unlabeled_paths, weak_transform, strong_transform)\n",
    "    \n",
    "    return train_dataset, val_dataset, unlabeled_dataset, train_labels\n",
    "\n",
    "print(\"Data loading function defined\")"
   ]
  },
  {
   "cell_type": "code",
   "execution_count": 27,
   "id": "ee7f8652",
   "metadata": {},
   "outputs": [
    {
     "name": "stdout",
     "output_type": "stream",
     "text": [
      "Goal-Oriented Trainer defined\n"
     ]
    }
   ],
   "source": [
    "# ============================================================\n",
    "# Goal-Oriented Trainer Class\n",
    "# ============================================================\n",
    "class BalancedTrainer:\n",
    "    def __init__(self, model, device='cuda', ssl_weight=2.0, confidence_thresh=0.9):\n",
    "        self.model, self.device = model.to(device), device\n",
    "        self.criterion = WeightedFocalLoss(alpha=0.9, gamma=2.0)\n",
    "        self.ssl_weight, self.confidence_thresh = ssl_weight, confidence_thresh\n",
    "        self.optimizer = torch.optim.AdamW(self.model.parameters(), lr=1e-4, weight_decay=1e-3)\n",
    "        self.scheduler = torch.optim.lr_scheduler.ReduceLROnPlateau(self.optimizer, 'min', patience=5, factor=0.2)\n",
    "        self.history = {'train_loss': [], 'consistency_loss': [], 'sensitivity': [], 'specificity': [], 'false_negatives': [], 'false_positives': []}\n",
    "        \n",
    "        self.best_clinical_score = float('inf')\n",
    "        self.best_metrics = {}\n",
    "\n",
    "    def train_epoch(self, labeled_loader, unlabeled_loader, epoch):\n",
    "        self.model.train()\n",
    "        total_sup_loss, total_cons_loss = 0, 0\n",
    "        unlabeled_iter = iter(unlabeled_loader)\n",
    "        pbar = tqdm(labeled_loader, desc=f'Epoch {epoch+1}')\n",
    "        \n",
    "        for labeled_images, labels in pbar:\n",
    "            labeled_images, labels = labeled_images.to(self.device), labels.to(self.device)\n",
    "            logits_l = self.model(labeled_images)\n",
    "            sup_loss = self.criterion(logits_l, labels)\n",
    "            \n",
    "            try: images_u_w, images_u_s = next(unlabeled_iter)\n",
    "            except StopIteration: unlabeled_iter = iter(unlabeled_loader); images_u_w, images_u_s = next(unlabeled_iter)\n",
    "            images_u_w, images_u_s = images_u_w.to(self.device), images_u_s.to(self.device)\n",
    "            \n",
    "            with torch.no_grad():\n",
    "                logits_u_w = self.model(images_u_w)\n",
    "                max_probs, p_targets = torch.max(F.softmax(logits_u_w, dim=1), dim=1)\n",
    "                mask = max_probs.ge(self.confidence_thresh).float()\n",
    "            \n",
    "            logits_u_s = self.model(images_u_s)\n",
    "            cons_loss = (F.cross_entropy(logits_u_s, p_targets, reduction='none') * mask).mean()\n",
    "            total_loss = sup_loss + self.ssl_weight * cons_loss\n",
    "            \n",
    "            self.optimizer.zero_grad(); total_loss.backward(); self.optimizer.step()\n",
    "            total_sup_loss += sup_loss.item(); total_cons_loss += cons_loss.item()\n",
    "            pbar.set_postfix({'sup_loss': f'{sup_loss.item():.3f}', 'cons_loss': f'{cons_loss.item():.3f}'})\n",
    "        \n",
    "        return total_sup_loss / len(labeled_loader), total_cons_loss / len(labeled_loader)\n",
    "\n",
    "    def validate_and_find_threshold(self, val_loader, fn_target=1, fp_target=3):\n",
    "        self.model.eval()\n",
    "        all_probs, all_labels = [], []\n",
    "        with torch.no_grad():\n",
    "            for images, labels in val_loader:\n",
    "                logits = self.model(images.to(self.device))\n",
    "                all_probs.extend(F.softmax(logits, dim=1)[:, 1].cpu().numpy())\n",
    "                all_labels.extend(labels.cpu().numpy())\n",
    "        all_probs, all_labels = np.array(all_probs), np.array(all_labels)\n",
    "        \n",
    "        best_threshold, best_fp, best_fn = -1, float('inf'), float('inf')\n",
    "        \n",
    "        # Search for a threshold that meets the clinical goals\n",
    "        candidate_thresholds = []\n",
    "        for threshold in np.arange(0.05, 1.0, 0.01):\n",
    "            preds = (all_probs > threshold).astype(int)\n",
    "            fn = np.sum((all_labels == 1) & (preds == 0))\n",
    "            fp = np.sum((all_labels == 0) & (preds == 1))\n",
    "            \n",
    "            if fn <= fn_target:\n",
    "                if best_fn > fn_target: # If we were not meeting FN target before, reset\n",
    "                    best_fp = float('inf')\n",
    "                    \n",
    "                if fp < best_fp: # Found a better threshold\n",
    "                    best_fp = fp\n",
    "                    best_fn = fn\n",
    "                    best_threshold = threshold\n",
    "\n",
    "        # If no threshold met the FN target, fall back to lowest possible FN\n",
    "        if best_threshold == -1:\n",
    "            for threshold in np.arange(0.05, 1.0, 0.01):\n",
    "                preds = (all_probs > threshold).astype(int)\n",
    "                fn = np.sum((all_labels == 1) & (preds == 0))\n",
    "                fp = np.sum((all_labels == 0) & (preds == 1))\n",
    "                if fn < best_fn or (fn == best_fn and fp < best_fp):\n",
    "                    best_fn, best_fp, best_threshold = fn, fp, threshold\n",
    "        \n",
    "        y_pred = (all_probs >= best_threshold).astype(int)\n",
    "        tp = np.sum((all_labels == 1) & (y_pred == 1)); fn_final = np.sum((all_labels == 1) & (y_pred == 0))\n",
    "        tn = np.sum((all_labels == 0) & (y_pred == 0)); fp_final = np.sum((all_labels == 0) & (y_pred == 1))\n",
    "        metrics = {'sensitivity': tp/(tp+fn_final) if tp+fn_final>0 else 0, 'specificity': tn/(tn+fp_final) if tn+fp_final>0 else 0, 'false_negatives': fn_final, 'false_positives': fp_final}\n",
    "        return metrics, best_threshold\n",
    "\n",
    "    def train(self, labeled_loader, unlabeled_loader, val_loader, epochs=50):\n",
    "        print(\"\\n\" + \"=\"*60); print(\"STARTING GOAL-ORIENTED SSL TRAINING\"); print(\"=\"*60)\n",
    "        patience, max_patience = 0, 15\n",
    "        \n",
    "        for epoch in range(epochs):\n",
    "            train_loss, cons_loss = self.train_epoch(labeled_loader, unlabeled_loader, epoch)\n",
    "            metrics, threshold = self.validate_and_find_threshold(val_loader, fn_target=1, fp_target=3)\n",
    "            self.scheduler.step(train_loss)\n",
    "            \n",
    "            for key, value in metrics.items(): self.history[key].append(value)\n",
    "            self.history['train_loss'].append(train_loss); self.history['consistency_loss'].append(cons_loss)\n",
    "            \n",
    "            # MODIFIED: Moved this line BEFORE the print statement to fix the error\n",
    "            fn, fp = metrics['false_negatives'], metrics['false_positives']\n",
    "            \n",
    "            print(f\"\\nEpoch {epoch+1}/{epochs} | Sens: {metrics['sensitivity']:.3f}, Spec: {metrics['specificity']:.3f}, FN: {fn}, FP: {fp}, Thr: {threshold:.3f}\")\n",
    "\n",
    "            # Goal-oriented saving logic\n",
    "            current_score = (fn * 5) + fp \n",
    "            is_clinically_acceptable = fn <= 1 and fp <= 3\n",
    "\n",
    "            # Check if this is the best model so far\n",
    "            is_best = False\n",
    "            if is_clinically_acceptable:\n",
    "                if not self.best_metrics.get('is_clinically_acceptable', False):\n",
    "                    is_best = True # First clinically acceptable model\n",
    "                elif current_score < self.best_clinical_score:\n",
    "                    is_best = True # Better clinically acceptable model\n",
    "            elif not self.best_metrics.get('is_clinically_acceptable', False) and current_score < self.best_clinical_score:\n",
    "                is_best = True # Not acceptable yet, but better than previous unacceptable models\n",
    "\n",
    "            if is_best:\n",
    "                self.best_clinical_score = current_score\n",
    "                self.best_metrics = {**metrics, 'is_clinically_acceptable': is_clinically_acceptable}\n",
    "                patience = 0\n",
    "                checkpoint = {'epoch': epoch, 'model_state_dict': self.model.state_dict(),\n",
    "                              'optimizer_state_dict': self.optimizer.state_dict(), 'metrics': metrics, \n",
    "                              'threshold': threshold, 'history': self.history}\n",
    "                torch.save(checkpoint, 'artifacts/balanced_sensitivity_model.pth')\n",
    "                print(f\"  ✓ Saved best model (FN: {fn}, FP: {fp}, Score: {current_score})\")\n",
    "            else:\n",
    "                patience += 1\n",
    "            \n",
    "            if (patience >= max_patience and epoch > 10) or (self.best_metrics.get('is_clinically_acceptable', False) and epoch > 10):\n",
    "                if self.best_metrics.get('is_clinically_acceptable', False):\n",
    "                    print(f\"\\n✓ CLINICAL TARGET MET! Stopping training.\")\n",
    "                else:\n",
    "                    print(f\"\\nEarly stopping at epoch {epoch+1}!\")\n",
    "                break\n",
    "        \n",
    "        print(\"\\n\" + \"=\"*60); print(\"TRAINING COMPLETED\"); print(f\"Best Results: {self.best_metrics}\"); print(\"=\"*60)\n",
    "        return self.history\n",
    "\n",
    "print(\"Goal-Oriented Trainer defined\")"
   ]
  },
  {
   "cell_type": "code",
   "execution_count": 28,
   "id": "960f64ce",
   "metadata": {},
   "outputs": [
    {
     "name": "stdout",
     "output_type": "stream",
     "text": [
      "Visualization functions defined\n"
     ]
    }
   ],
   "source": [
    "# ============================================================\n",
    "# Visualization Functions (Updated for SSL)\n",
    "# ============================================================\n",
    "def plot_training_history(history):\n",
    "    fig, axes = plt.subplots(2, 2, figsize=(14, 10))\n",
    "    fig.suptitle('Goal-Oriented SSL Training Progress', fontsize=16, fontweight='bold')\n",
    "    \n",
    "    axes[0, 0].plot(history['train_loss'], label='Supervised Loss')\n",
    "    axes[0, 0].plot(history['consistency_loss'], label='Consistency Loss', linestyle='--')\n",
    "    axes[0, 0].set_title('Training Loss Components'); axes[0, 0].legend()\n",
    "    \n",
    "    axes[0, 1].plot(history['sensitivity'], label='Sensitivity', color='g')\n",
    "    axes[0, 1].plot(history['specificity'], label='Specificity', color='b')\n",
    "    axes[0, 1].set_title('Sensitivity vs Specificity'); axes[0, 1].legend()\n",
    "\n",
    "    axes[1, 0].plot(history['false_negatives'], label='False Negatives', color='r', marker='o')\n",
    "    axes[1, 0].set_title('False Negatives per Epoch'); axes[1, 0].legend()\n",
    "    \n",
    "    axes[1, 1].plot(history['false_positives'], label='False Positives', color='orange', marker='s')\n",
    "    axes[1, 1].set_title('False Positives per Epoch'); axes[1, 1].legend()\n",
    "    \n",
    "    for ax in axes.flat: ax.set_xlabel('Epoch'); ax.grid(True, alpha=0.3)\n",
    "    \n",
    "    plt.tight_layout(rect=[0, 0, 1, 0.95])\n",
    "    plt.savefig('artifacts/balanced_sensitivity_training_history.png', dpi=150)\n",
    "    plt.show()\n",
    "\n",
    "print(\"Visualization functions defined\")"
   ]
  },
  {
   "cell_type": "code",
   "execution_count": 29,
   "id": "e605db25",
   "metadata": {},
   "outputs": [],
   "source": [
    "# ============================================================\n",
    "# Main Training Pipeline & Helper Functions\n",
    "# ============================================================\n",
    "def convert_numpy_to_python(obj):\n",
    "    if isinstance(obj, np.integer): return int(obj)\n",
    "    if isinstance(obj, np.floating): return float(obj)\n",
    "    if isinstance(obj, np.ndarray): return obj.tolist()\n",
    "    if isinstance(obj, dict): return {k: convert_numpy_to_python(v) for k, v in obj.items()}\n",
    "    if isinstance(obj, list): return [convert_numpy_to_python(item) for item in obj]\n",
    "    return obj\n",
    "\n",
    "def main():\n",
    "    \"\"\"Main goal-oriented semi-supervised training pipeline\"\"\"\n",
    "    print(\"=\"*60)\n",
    "    print(\"SEMI-SUPERVISED LEARNING FOR OPTIMAL CLINICAL BALANCE\")\n",
    "    print(\"=\"*60)\n",
    "    \n",
    "    ARTIFACTS_DIR = Path(\"artifacts\")\n",
    "    with open(ARTIFACTS_DIR / \"model_config.json\", \"r\") as f: model_config = json.load(f)\n",
    "    device = torch.device(\"cuda\" if torch.cuda.is_available() else \"cpu\")\n",
    "    print(f\"Using device: {device}\")\n",
    "    \n",
    "    train_dataset, val_dataset, unlabeled_dataset, train_labels = load_and_prepare_data()\n",
    "    \n",
    "    class_counts = np.bincount(train_labels); class_weights = 1.0 / class_counts\n",
    "    sample_weights = np.array([class_weights[label] for label in train_labels])\n",
    "    sampler = WeightedRandomSampler(weights=sample_weights, num_samples=len(sample_weights), replacement=True)\n",
    "    \n",
    "    labeled_loader = DataLoader(train_dataset, batch_size=16, sampler=sampler)\n",
    "    val_loader = DataLoader(val_dataset, batch_size=16, shuffle=False)\n",
    "    unlabeled_loader = DataLoader(unlabeled_dataset, batch_size=64, shuffle=True)\n",
    "\n",
    "    print(f\"\\nData loader summary: Labeled Batches: {len(labeled_loader)}, Unlabeled Batches: {len(unlabeled_loader)}\")\n",
    "    \n",
    "    model = create_model(num_classes=2, dropout_rate=0.4) # Slightly increased dropout for regularization\n",
    "    print(f\"\\nModel summary: Total trainable parameters: {sum(p.numel() for p in model.parameters() if p.requires_grad):,}\")\n",
    "\n",
    "    pretrained_path = ARTIFACTS_DIR / \"ssl_model_best_010_78.9.pth\"\n",
    "    if pretrained_path.exists():\n",
    "        print(f\"Loading pretrained weights from: {pretrained_path}\")\n",
    "        checkpoint = torch.load(pretrained_path, map_location=device, weights_only=False)\n",
    "        model.load_state_dict(checkpoint['model_state_dict'], strict=False)\n",
    "        print(\"✓ Pretrained weights loaded\")\n",
    "    \n",
    "    trainer = BalancedTrainer(model, device=device, ssl_weight=2.0, confidence_thresh=0.90)\n",
    "    history = trainer.train(labeled_loader, unlabeled_loader, val_loader, epochs=50)\n",
    "    \n",
    "    plot_training_history(history)\n",
    "    \n",
    "    history_serializable = convert_numpy_to_python(history)\n",
    "    with open(ARTIFACTS_DIR / \"balanced_sensitivity_training_history.json\", \"w\") as f:\n",
    "        json.dump(history_serializable, f, indent=2)\n",
    "    \n",
    "    print(\"\\n\" + \"=\"*60); print(\"TRAINING COMPLETED SUCCESSFULLY\"); print(\"=\"*60)\n",
    "    print(f\"Model saved to: artifacts/balanced_sensitivity_model.pth\")\n",
    "    print(f\"History saved to: artifacts/balanced_sensitivity_training_history.json\")\n",
    "    print(f\"Plots saved to: artifacts/balanced_sensitivity_training_history.png\")\n",
    "    \n",
    "    return trainer, history"
   ]
  },
  {
   "cell_type": "code",
   "execution_count": 30,
   "id": "4adec9c2",
   "metadata": {},
   "outputs": [
    {
     "name": "stdout",
     "output_type": "stream",
     "text": [
      "============================================================\n",
      "SEMI-SUPERVISED LEARNING FOR OPTIMAL CLINICAL BALANCE\n",
      "============================================================\n",
      "Using device: cpu\n",
      "Loaded 190 labeled (Counter({1: 98, 0: 92})) and 6377 unlabeled images.\n",
      "\n",
      "Data loader summary: Labeled Batches: 10, Unlabeled Batches: 100\n",
      "\n",
      "Model summary: Total trainable parameters: 4,705,086\n",
      "Loading pretrained weights from: artifacts\\ssl_model_best_010_78.9.pth\n",
      "✓ Pretrained weights loaded\n",
      "\n",
      "============================================================\n",
      "STARTING GOAL-ORIENTED SSL TRAINING\n",
      "============================================================\n"
     ]
    },
    {
     "name": "stderr",
     "output_type": "stream",
     "text": [
      "Epoch 1: 100%|██████████| 10/10 [04:17<00:00, 25.74s/it, sup_loss=0.005, cons_loss=0.100]\n"
     ]
    },
    {
     "name": "stdout",
     "output_type": "stream",
     "text": [
      "\n",
      "Epoch 1/50 | Sens: 0.800, Spec: 0.611, FN: 4, FP: 7, Thr: 0.080\n",
      "  ✓ Saved best model (FN: 4, FP: 7, Score: 27)\n"
     ]
    },
    {
     "name": "stderr",
     "output_type": "stream",
     "text": [
      "Epoch 2: 100%|██████████| 10/10 [03:50<00:00, 23.10s/it, sup_loss=0.001, cons_loss=0.114]\n"
     ]
    },
    {
     "name": "stdout",
     "output_type": "stream",
     "text": [
      "\n",
      "Epoch 2/50 | Sens: 0.450, Spec: 0.944, FN: 11, FP: 1, Thr: 0.070\n"
     ]
    },
    {
     "name": "stderr",
     "output_type": "stream",
     "text": [
      "Epoch 3: 100%|██████████| 10/10 [03:52<00:00, 23.22s/it, sup_loss=0.002, cons_loss=0.073]\n"
     ]
    },
    {
     "name": "stdout",
     "output_type": "stream",
     "text": [
      "\n",
      "Epoch 3/50 | Sens: 0.250, Spec: 1.000, FN: 15, FP: 0, Thr: 0.050\n"
     ]
    },
    {
     "name": "stderr",
     "output_type": "stream",
     "text": [
      "Epoch 4: 100%|██████████| 10/10 [03:28<00:00, 20.83s/it, sup_loss=0.002, cons_loss=0.067]\n"
     ]
    },
    {
     "name": "stdout",
     "output_type": "stream",
     "text": [
      "\n",
      "Epoch 4/50 | Sens: 0.050, Spec: 1.000, FN: 19, FP: 0, Thr: 0.050\n"
     ]
    },
    {
     "name": "stderr",
     "output_type": "stream",
     "text": [
      "Epoch 5: 100%|██████████| 10/10 [03:51<00:00, 23.15s/it, sup_loss=0.334, cons_loss=0.121]\n"
     ]
    },
    {
     "name": "stdout",
     "output_type": "stream",
     "text": [
      "\n",
      "Epoch 5/50 | Sens: 0.050, Spec: 1.000, FN: 19, FP: 0, Thr: 0.050\n"
     ]
    },
    {
     "name": "stderr",
     "output_type": "stream",
     "text": [
      "Epoch 6: 100%|██████████| 10/10 [03:48<00:00, 22.85s/it, sup_loss=0.015, cons_loss=0.131]\n"
     ]
    },
    {
     "name": "stdout",
     "output_type": "stream",
     "text": [
      "\n",
      "Epoch 6/50 | Sens: 0.000, Spec: 1.000, FN: 20, FP: 0, Thr: 0.050\n"
     ]
    },
    {
     "name": "stderr",
     "output_type": "stream",
     "text": [
      "Epoch 7: 100%|██████████| 10/10 [03:46<00:00, 22.69s/it, sup_loss=0.014, cons_loss=0.096]\n"
     ]
    },
    {
     "name": "stdout",
     "output_type": "stream",
     "text": [
      "\n",
      "Epoch 7/50 | Sens: 0.000, Spec: 1.000, FN: 20, FP: 0, Thr: 0.050\n"
     ]
    },
    {
     "name": "stderr",
     "output_type": "stream",
     "text": [
      "Epoch 8: 100%|██████████| 10/10 [04:26<00:00, 26.69s/it, sup_loss=0.001, cons_loss=0.092]\n"
     ]
    },
    {
     "name": "stdout",
     "output_type": "stream",
     "text": [
      "\n",
      "Epoch 8/50 | Sens: 0.000, Spec: 1.000, FN: 20, FP: 0, Thr: 0.050\n"
     ]
    },
    {
     "name": "stderr",
     "output_type": "stream",
     "text": [
      "Epoch 9: 100%|██████████| 10/10 [04:01<00:00, 24.12s/it, sup_loss=0.026, cons_loss=0.027]\n"
     ]
    },
    {
     "name": "stdout",
     "output_type": "stream",
     "text": [
      "\n",
      "Epoch 9/50 | Sens: 0.000, Spec: 1.000, FN: 20, FP: 0, Thr: 0.050\n"
     ]
    },
    {
     "name": "stderr",
     "output_type": "stream",
     "text": [
      "Epoch 10: 100%|██████████| 10/10 [04:00<00:00, 24.05s/it, sup_loss=0.000, cons_loss=0.027]\n"
     ]
    },
    {
     "name": "stdout",
     "output_type": "stream",
     "text": [
      "\n",
      "Epoch 10/50 | Sens: 0.000, Spec: 1.000, FN: 20, FP: 0, Thr: 0.050\n"
     ]
    },
    {
     "name": "stderr",
     "output_type": "stream",
     "text": [
      "Epoch 11: 100%|██████████| 10/10 [03:53<00:00, 23.31s/it, sup_loss=0.000, cons_loss=0.068]\n"
     ]
    },
    {
     "name": "stdout",
     "output_type": "stream",
     "text": [
      "\n",
      "Epoch 11/50 | Sens: 0.000, Spec: 1.000, FN: 20, FP: 0, Thr: 0.050\n"
     ]
    },
    {
     "name": "stderr",
     "output_type": "stream",
     "text": [
      "Epoch 12: 100%|██████████| 10/10 [04:12<00:00, 25.26s/it, sup_loss=0.000, cons_loss=0.122]\n"
     ]
    },
    {
     "name": "stdout",
     "output_type": "stream",
     "text": [
      "\n",
      "Epoch 12/50 | Sens: 0.000, Spec: 1.000, FN: 20, FP: 0, Thr: 0.050\n"
     ]
    },
    {
     "name": "stderr",
     "output_type": "stream",
     "text": [
      "Epoch 13: 100%|██████████| 10/10 [04:14<00:00, 25.45s/it, sup_loss=0.000, cons_loss=0.031]\n"
     ]
    },
    {
     "name": "stdout",
     "output_type": "stream",
     "text": [
      "\n",
      "Epoch 13/50 | Sens: 0.000, Spec: 1.000, FN: 20, FP: 0, Thr: 0.050\n"
     ]
    },
    {
     "name": "stderr",
     "output_type": "stream",
     "text": [
      "Epoch 14: 100%|██████████| 10/10 [03:43<00:00, 22.37s/it, sup_loss=0.002, cons_loss=0.119]\n"
     ]
    },
    {
     "name": "stdout",
     "output_type": "stream",
     "text": [
      "\n",
      "Epoch 14/50 | Sens: 0.000, Spec: 1.000, FN: 20, FP: 0, Thr: 0.050\n"
     ]
    },
    {
     "name": "stderr",
     "output_type": "stream",
     "text": [
      "Epoch 15: 100%|██████████| 10/10 [03:38<00:00, 21.88s/it, sup_loss=0.000, cons_loss=0.062]\n"
     ]
    },
    {
     "name": "stdout",
     "output_type": "stream",
     "text": [
      "\n",
      "Epoch 15/50 | Sens: 0.000, Spec: 1.000, FN: 20, FP: 0, Thr: 0.050\n"
     ]
    },
    {
     "name": "stderr",
     "output_type": "stream",
     "text": [
      "Epoch 16: 100%|██████████| 10/10 [03:19<00:00, 19.91s/it, sup_loss=0.001, cons_loss=0.097]\n"
     ]
    },
    {
     "name": "stdout",
     "output_type": "stream",
     "text": [
      "\n",
      "Epoch 16/50 | Sens: 0.000, Spec: 1.000, FN: 20, FP: 0, Thr: 0.050\n",
      "\n",
      "Early stopping at epoch 16!\n",
      "\n",
      "============================================================\n",
      "TRAINING COMPLETED\n",
      "Best Results: {'sensitivity': np.float64(0.8), 'specificity': np.float64(0.6111111111111112), 'false_negatives': np.int64(4), 'false_positives': np.int64(7), 'is_clinically_acceptable': np.False_}\n",
      "============================================================\n"
     ]
    },
    {
     "data": {
      "image/png": "[encoded data removed]",
      "text/plain": [
       "<Figure size 1400x1000 with 4 Axes>"
      ]
     },
     "metadata": {},
     "output_type": "display_data"
    },
    {
     "name": "stdout",
     "output_type": "stream",
     "text": [
      "\n",
      "============================================================\n",
      "TRAINING COMPLETED SUCCESSFULLY\n",
      "============================================================\n",
      "Model saved to: artifacts/balanced_sensitivity_model.pth\n",
      "History saved to: artifacts/balanced_sensitivity_training_history.json\n",
      "Plots saved to: artifacts/balanced_sensitivity_training_history.png\n",
      "\n",
      "============================================================\n",
      "FINAL PERFORMANCE SUMMARY\n",
      "============================================================\n",
      "Best Clinically-Acceptable Epoch: 1\n",
      "  - False Negatives: 4\n",
      "  - False Positives: 7\n",
      "  - Sensitivity: 0.800\n",
      "  - Specificity: 0.611\n"
     ]
    }
   ],
   "source": [
    "# ============================================================\n",
    "# Execute Training\n",
    "# ============================================================\n",
    "if __name__ == \"__main__\":\n",
    "    trainer, history = main()\n",
    "    \n",
    "    # Print final summary\n",
    "    print(\"\\n\" + \"=\"*60)\n",
    "    print(\"FINAL PERFORMANCE SUMMARY\")\n",
    "    print(\"=\"*60)\n",
    "    best_epoch_idx = np.argmin([(fn*5)+fp for fn, fp in zip(history['false_negatives'], history['false_positives']) if fn <=1 and fp <=3] or [(fn*5)+fp for fn, fp in zip(history['false_negatives'], history['false_positives'])])\n",
    "    \n",
    "    best_fn = history['false_negatives'][best_epoch_idx]\n",
    "    best_fp = history['false_positives'][best_epoch_idx]\n",
    "    best_sens = history['sensitivity'][best_epoch_idx]\n",
    "    best_spec = history['specificity'][best_epoch_idx]\n",
    "    \n",
    "    print(f\"Best Clinically-Acceptable Epoch: {best_epoch_idx + 1}\")\n",
    "    print(f\"  - False Negatives: {best_fn}\")\n",
    "    print(f\"  - False Positives: {best_fp}\")\n",
    "    print(f\"  - Sensitivity: {best_sens:.3f}\")\n",
    "    print(f\"  - Specificity: {best_spec:.3f}\")"
   ]
  }
 ],
 "metadata": {
  "kernelspec": {
   "display_name": "venv",
   "language": "python",
   "name": "python3"
  },
  "language_info": {
   "codemirror_mode": {
    "name": "ipython",
    "version": 3
   },
   "file_extension": ".py",
   "mimetype": "text/x-python",
   "name": "python",
   "nbconvert_exporter": "python",
   "pygments_lexer": "ipython3",
   "version": "3.11.9"
  }
 },
 "nbformat": 4,
 "nbformat_minor": 5
}
