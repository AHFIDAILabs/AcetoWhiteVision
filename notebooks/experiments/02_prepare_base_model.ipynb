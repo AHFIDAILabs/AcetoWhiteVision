{
 "cells": [
  {
   "cell_type": "code",
   "execution_count": 1,
   "id": "394211db",
   "metadata": {},
   "outputs": [
    {
     "data": {
      "text/plain": [
       "'c:\\\\09_AHFID\\\\CervicalAI-Screen\\\\notebook'"
      ]
     },
     "execution_count": 1,
     "metadata": {},
     "output_type": "execute_result"
    }
   ],
   "source": [
    "import os\n",
    "%pwd"
   ]
  },
  {
   "cell_type": "code",
   "execution_count": 2,
   "id": "b4512c46",
   "metadata": {},
   "outputs": [
    {
     "data": {
      "text/plain": [
       "'c:\\\\09_AHFID\\\\CervicalAI-Screen'"
      ]
     },
     "execution_count": 2,
     "metadata": {},
     "output_type": "execute_result"
    }
   ],
   "source": [
    "os.chdir('../')\n",
    "%pwd"
   ]
  },
  {
   "cell_type": "code",
   "execution_count": 3,
   "id": "8ee33be5",
   "metadata": {},
   "outputs": [
    {
     "name": "stderr",
     "output_type": "stream",
     "text": [
      "c:\\09_AHFID\\CervicalAI-Screen\\venv\\Lib\\site-packages\\tqdm\\auto.py:21: TqdmWarning: IProgress not found. Please update jupyter and ipywidgets. See https://ipywidgets.readthedocs.io/en/stable/user_install.html\n",
      "  from .autonotebook import tqdm as notebook_tqdm\n"
     ]
    },
    {
     "name": "stdout",
     "output_type": "stream",
     "text": [
      "Data Configuration:\n",
      "  Classes: ['Negative', 'Positive']\n",
      "  Number of classes: 2\n",
      "  SSL enabled: True\n",
      "  Data directory: artifacts\\via_cervix_ssl\n"
     ]
    }
   ],
   "source": [
    "# 02_prepare_base_model.ipynb\n",
    "# Base model architecture optimized for semi-supervised learning\n",
    "\n",
    "import torch\n",
    "import torch.nn as nn\n",
    "import torch.nn.functional as F\n",
    "import timm\n",
    "import json\n",
    "from pathlib import Path\n",
    "import numpy as np\n",
    "\n",
    "# Load metadata from data ingestion\n",
    "ARTIFACTS_DIR = Path(\"artifacts\")\n",
    "with open(ARTIFACTS_DIR / \"data_metadata.json\", \"r\") as f:\n",
    "    metadata = json.load(f)\n",
    "\n",
    "print(\"Data Configuration:\")\n",
    "print(f\"  Classes: {metadata['classes']}\")\n",
    "print(f\"  Number of classes: {metadata['num_classes']}\")\n",
    "print(f\"  SSL enabled: {metadata['ssl_enabled']}\")\n",
    "print(f\"  Data directory: {metadata['data_dir']}\")"
   ]
  },
  {
   "cell_type": "code",
   "execution_count": 4,
   "id": "7f774949",
   "metadata": {},
   "outputs": [
    {
     "name": "stdout",
     "output_type": "stream",
     "text": [
      "Using device: cpu\n"
     ]
    }
   ],
   "source": [
    "# Configuration for semi-supervised learning\n",
    "DEVICE = torch.device(\"cuda\" if torch.cuda.is_available() else \"cpu\")\n",
    "NUM_CLASSES = metadata['num_classes']\n",
    "MODEL_NAME = 'efficientnet_b0'\n",
    "IMG_SIZE = 224\n",
    "FEATURE_DIM = 1280\n",
    "\n",
    "print(f\"Using device: {DEVICE}\")"
   ]
  },
  {
   "cell_type": "code",
   "execution_count": 5,
   "id": "f5994738",
   "metadata": {},
   "outputs": [],
   "source": [
    "class SSLEfficientNet(nn.Module):\n",
    "    \"\"\"EfficientNet backbone optimized for semi-supervised learning\"\"\"\n",
    "    def __init__(self, model_name='efficientnet_b0', num_classes=2, dropout_rate=0.5):\n",
    "        super(SSLEfficientNet, self).__init__()\n",
    "        \n",
    "        # Load pretrained backbone\n",
    "        self.backbone = timm.create_model(model_name, pretrained=True, num_classes=0)\n",
    "        self.feature_dim = self.backbone.num_features\n",
    "        \n",
    "        # Feature projector for consistency regularization\n",
    "        self.projector = nn.Sequential(\n",
    "            nn.Linear(self.feature_dim, 256),\n",
    "            nn.ReLU(inplace=True),\n",
    "            nn.Linear(256, 128),\n",
    "            nn.ReLU(inplace=True),\n",
    "            nn.Linear(128, 64)\n",
    "        )\n",
    "        \n",
    "        # Classification head with dropout\n",
    "        self.classifier = nn.Sequential(\n",
    "            nn.Dropout(dropout_rate),\n",
    "            nn.Linear(self.feature_dim, 256),\n",
    "            nn.ReLU(inplace=True),\n",
    "            nn.Dropout(dropout_rate * 0.5),\n",
    "            nn.Linear(256, num_classes)\n",
    "        )\n",
    "        \n",
    "        self._initialize_weights()\n",
    "    \n",
    "    def _initialize_weights(self):\n",
    "        \"\"\"Initialize additional layers\"\"\"\n",
    "        for m in [self.projector, self.classifier]:\n",
    "            for layer in m:\n",
    "                if isinstance(layer, nn.Linear):\n",
    "                    nn.init.xavier_uniform_(layer.weight)\n",
    "                    nn.init.constant_(layer.bias, 0)\n",
    "    \n",
    "    def forward(self, x, return_features=False):\n",
    "        \"\"\"Forward pass with optional feature return\"\"\"\n",
    "        features = self.backbone(x)\n",
    "        logits = self.classifier(features)\n",
    "        \n",
    "        if return_features:\n",
    "            projected_features = self.projector(features)\n",
    "            return logits, features, projected_features\n",
    "        \n",
    "        return logits\n",
    "    \n",
    "    def extract_features(self, x):\n",
    "        \"\"\"Extract features without classification\"\"\"\n",
    "        with torch.no_grad():\n",
    "            features = self.backbone(x)\n",
    "            return features"
   ]
  },
  {
   "cell_type": "code",
   "execution_count": 6,
   "id": "f0b011c4",
   "metadata": {},
   "outputs": [],
   "source": [
    "class ConsistencyLoss(nn.Module):\n",
    "    \"\"\"Consistency loss for semi-supervised learning\"\"\"\n",
    "    def __init__(self, consistency_type='mse', temperature=1.0):\n",
    "        super(ConsistencyLoss, self).__init__()\n",
    "        self.consistency_type = consistency_type\n",
    "        self.temperature = temperature\n",
    "        \n",
    "    def forward(self, logits1, logits2):\n",
    "        if self.consistency_type == 'mse':\n",
    "            prob1 = F.softmax(logits1 / self.temperature, dim=1)\n",
    "            prob2 = F.softmax(logits2 / self.temperature, dim=1)\n",
    "            return F.mse_loss(prob1, prob2)\n",
    "        elif self.consistency_type == 'kl':\n",
    "            log_prob1 = F.log_softmax(logits1 / self.temperature, dim=1)\n",
    "            prob2 = F.softmax(logits2 / self.temperature, dim=1)\n",
    "            return F.kl_div(log_prob1, prob2, reduction='batchmean')\n",
    "        else:\n",
    "            raise ValueError(f\"Unknown consistency type: {self.consistency_type}\")"
   ]
  },
  {
   "cell_type": "code",
   "execution_count": 7,
   "id": "762597ae",
   "metadata": {},
   "outputs": [],
   "source": [
    "class PseudoLabelLoss(nn.Module):\n",
    "    \"\"\"Pseudo-labeling loss for semi-supervised learning\"\"\"\n",
    "    def __init__(self, threshold=0.95, temperature=1.0):\n",
    "        super(PseudoLabelLoss, self).__init__()\n",
    "        self.threshold = threshold\n",
    "        self.temperature = temperature\n",
    "        \n",
    "    def forward(self, logits, return_mask=False):\n",
    "        probs = F.softmax(logits / self.temperature, dim=1)\n",
    "        max_probs, pseudo_labels = torch.max(probs, dim=1)\n",
    "        \n",
    "        confidence_mask = max_probs >= self.threshold\n",
    "        \n",
    "        if confidence_mask.sum() == 0:\n",
    "            loss = torch.tensor(0.0, device=logits.device)\n",
    "        else:\n",
    "            loss = F.cross_entropy(logits[confidence_mask], pseudo_labels[confidence_mask])\n",
    "        \n",
    "        if return_mask:\n",
    "            return loss, confidence_mask, pseudo_labels\n",
    "        return loss"
   ]
  },
  {
   "cell_type": "code",
   "execution_count": 8,
   "id": "0c397132",
   "metadata": {},
   "outputs": [],
   "source": [
    "def create_ssl_model(num_classes=2, model_name='efficientnet_b0', dropout_rate=0.5):\n",
    "    \"\"\"Create and return SSL model\"\"\"\n",
    "    model = SSLEfficientNet(model_name=model_name, num_classes=num_classes, dropout_rate=dropout_rate)\n",
    "    return model"
   ]
  },
  {
   "cell_type": "code",
   "execution_count": 9,
   "id": "4b83f4be",
   "metadata": {},
   "outputs": [],
   "source": [
    "def count_parameters(model):\n",
    "    \"\"\"Count model parameters\"\"\"\n",
    "    total_params = sum(p.numel() for p in model.parameters())\n",
    "    trainable_params = sum(p.numel() for p in model.parameters() if p.requires_grad)\n",
    "    return total_params, trainable_params"
   ]
  },
  {
   "cell_type": "code",
   "execution_count": 10,
   "id": "f02827fa",
   "metadata": {},
   "outputs": [],
   "source": [
    "def test_model_architecture():\n",
    "    \"\"\"Test model architecture with dummy data\"\"\"\n",
    "    print(\"\\nTesting model architecture...\")\n",
    "    \n",
    "    model = create_ssl_model(NUM_CLASSES).to(DEVICE)\n",
    "    \n",
    "    # Test forward pass\n",
    "    batch_size = 4\n",
    "    dummy_input = torch.randn(batch_size, 3, IMG_SIZE, IMG_SIZE).to(DEVICE)\n",
    "    \n",
    "    with torch.no_grad():\n",
    "        logits = model(dummy_input)\n",
    "        print(f\"Classification output shape: {logits.shape}\")\n",
    "        \n",
    "        logits, features, projected = model(dummy_input, return_features=True)\n",
    "        print(f\"Features shape: {features.shape}\")\n",
    "        print(f\"Projected features shape: {projected.shape}\")\n",
    "        \n",
    "        features_only = model.extract_features(dummy_input)\n",
    "        print(f\"Feature extraction shape: {features_only.shape}\")\n",
    "    \n",
    "    total_params, trainable_params = count_parameters(model)\n",
    "    print(f\"Total parameters: {total_params:,}\")\n",
    "    print(f\"Trainable parameters: {trainable_params:,}\")\n",
    "    \n",
    "    print(\"✓ Model architecture test passed\")\n",
    "    return model"
   ]
  },
  {
   "cell_type": "code",
   "execution_count": 11,
   "id": "5ae76edf",
   "metadata": {},
   "outputs": [],
   "source": [
    "def test_loss_functions():\n",
    "    \"\"\"Test SSL loss functions\"\"\"\n",
    "    print(\"\\nTesting loss functions...\")\n",
    "    \n",
    "    batch_size = 8\n",
    "    num_classes = NUM_CLASSES\n",
    "    \n",
    "    logits1 = torch.randn(batch_size, num_classes)\n",
    "    logits2 = torch.randn(batch_size, num_classes)\n",
    "    targets = torch.randint(0, num_classes, (batch_size,))\n",
    "    \n",
    "    # Test consistency loss\n",
    "    consistency_loss_fn = ConsistencyLoss(consistency_type='mse')\n",
    "    cons_loss = consistency_loss_fn(logits1, logits2)\n",
    "    print(f\"Consistency loss (MSE): {cons_loss.item():.4f}\")\n",
    "    \n",
    "    consistency_loss_fn = ConsistencyLoss(consistency_type='kl')\n",
    "    cons_loss = consistency_loss_fn(logits1, logits2)\n",
    "    print(f\"Consistency loss (KL): {cons_loss.item():.4f}\")\n",
    "    \n",
    "    # Test pseudo-label loss\n",
    "    pseudo_loss_fn = PseudoLabelLoss(threshold=0.7)\n",
    "    pseudo_loss, mask, pseudo_labels = pseudo_loss_fn(logits1, return_mask=True)\n",
    "    print(f\"Pseudo-label loss: {pseudo_loss.item():.4f}\")\n",
    "    print(f\"Confident predictions: {mask.sum().item()}/{batch_size}\")\n",
    "    \n",
    "    ce_loss = F.cross_entropy(logits1, targets)\n",
    "    print(f\"Cross-entropy loss: {ce_loss.item():.4f}\")\n",
    "    \n",
    "    print(\"✓ Loss function tests passed\")"
   ]
  },
  {
   "cell_type": "code",
   "execution_count": 12,
   "id": "df2f4700",
   "metadata": {},
   "outputs": [],
   "source": [
    "def save_model_config():\n",
    "    \"\"\"Save model configuration for training\"\"\"\n",
    "    config = {\n",
    "        \"model_architecture\": {\n",
    "            \"backbone\": MODEL_NAME,\n",
    "            \"num_classes\": NUM_CLASSES,\n",
    "            \"img_size\": IMG_SIZE,\n",
    "            \"feature_dim\": FEATURE_DIM,\n",
    "            \"dropout_rate\": 0.5\n",
    "        },\n",
    "        \"ssl_config\": {\n",
    "            \"consistency_loss\": \"mse\",\n",
    "            \"consistency_temperature\": 1.0,\n",
    "            \"pseudo_label_threshold\": 0.95,\n",
    "            \"pseudo_label_temperature\": 1.0\n",
    "        },\n",
    "        \"training_config\": {\n",
    "            \"device\": str(DEVICE),\n",
    "            \"mixed_precision\": True if str(DEVICE) == 'cuda' else False\n",
    "        }\n",
    "    }\n",
    "    \n",
    "    config_path = ARTIFACTS_DIR / \"model_config.json\"\n",
    "    with open(config_path, \"w\") as f:\n",
    "        json.dump(config, f, indent=2)\n",
    "    \n",
    "    print(f\"Model configuration saved to: {config_path}\")\n",
    "    return config"
   ]
  },
  {
   "cell_type": "code",
   "execution_count": 13,
   "id": "f98b3078",
   "metadata": {},
   "outputs": [
    {
     "name": "stdout",
     "output_type": "stream",
     "text": [
      "============================================================\n",
      "PREPARING BASE MODEL FOR SEMI-SUPERVISED LEARNING\n",
      "============================================================\n",
      "\n",
      "Testing model architecture...\n",
      "Classification output shape: torch.Size([4, 2])\n",
      "Features shape: torch.Size([4, 1280])\n",
      "Projected features shape: torch.Size([4, 64])\n",
      "Feature extraction shape: torch.Size([4, 1280])\n",
      "Total parameters: 4,705,086\n",
      "Trainable parameters: 4,705,086\n",
      "✓ Model architecture test passed\n",
      "\n",
      "Testing loss functions...\n",
      "Consistency loss (MSE): 0.1778\n",
      "Consistency loss (KL): 0.4868\n",
      "Pseudo-label loss: 0.2017\n",
      "Confident predictions: 2/8\n",
      "Cross-entropy loss: 0.4691\n",
      "✓ Loss function tests passed\n",
      "Model configuration saved to: artifacts\\model_config.json\n",
      "\n",
      "Model template saved to: artifacts\\ssl_model_template.pth\n",
      "\n",
      "============================================================\n",
      "BASE MODEL PREPARATION COMPLETED\n",
      "============================================================\n",
      "Ready for semi-supervised training!\n",
      "\n",
      "Model Summary:\n",
      "  Architecture: efficientnet_b0\n",
      "  Classes: ['Negative', 'Positive']\n",
      "  Parameters: 4,705,086\n",
      "  SSL Features: Consistency regularization + Pseudo-labeling\n",
      "  Device: cpu\n",
      "\n",
      "Ready for notebook 03_training.ipynb\n"
     ]
    }
   ],
   "source": [
    "# Main execution\n",
    "if __name__ == \"__main__\":\n",
    "    print(\"=\"*60)\n",
    "    print(\"PREPARING BASE MODEL FOR SEMI-SUPERVISED LEARNING\")\n",
    "    print(\"=\"*60)\n",
    "    \n",
    "    # Test model architecture\n",
    "    model = test_model_architecture()\n",
    "    \n",
    "    # Test loss functions\n",
    "    test_loss_functions()\n",
    "    \n",
    "    # Save model and configuration\n",
    "    config = save_model_config()\n",
    "    \n",
    "    # Save model architecture (empty weights for template)\n",
    "    model_path = ARTIFACTS_DIR / \"ssl_model_template.pth\"\n",
    "    torch.save({\n",
    "        'model_state_dict': model.state_dict(),\n",
    "        'config': config,\n",
    "        'model_class': 'SSLEfficientNet'\n",
    "    }, model_path)\n",
    "    \n",
    "    print(f\"\\nModel template saved to: {model_path}\")\n",
    "    \n",
    "    print(\"\\n\" + \"=\"*60)\n",
    "    print(\"BASE MODEL PREPARATION COMPLETED\")\n",
    "    print(\"=\"*60)\n",
    "    print(\"Ready for semi-supervised training!\")\n",
    "    \n",
    "    print(f\"\\nModel Summary:\")\n",
    "    print(f\"  Architecture: {MODEL_NAME}\")\n",
    "    print(f\"  Classes: {metadata['classes']}\")\n",
    "    print(f\"  Parameters: {count_parameters(model)[0]:,}\")\n",
    "    print(f\"  SSL Features: Consistency regularization + Pseudo-labeling\")\n",
    "    print(f\"  Device: {DEVICE}\")\n",
    "    print(\"\\nReady for notebook 03_training.ipynb\")"
   ]
  }
 ],
 "metadata": {
  "kernelspec": {
   "display_name": "venv",
   "language": "python",
   "name": "python3"
  },
  "language_info": {
   "codemirror_mode": {
    "name": "ipython",
    "version": 3
   },
   "file_extension": ".py",
   "mimetype": "text/x-python",
   "name": "python",
   "nbconvert_exporter": "python",
   "pygments_lexer": "ipython3",
   "version": "3.11.9"
  }
 },
 "nbformat": 4,
 "nbformat_minor": 5
}
